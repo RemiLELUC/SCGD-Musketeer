{
 "cells": [
  {
   "cell_type": "markdown",
   "metadata": {},
   "source": [
    "# <center> ZO-optimization\n",
    "    \n",
    "### Author: Rémi LELUC\n",
    "### Date : April 14th, 2021"
   ]
  },
  {
   "cell_type": "markdown",
   "metadata": {},
   "source": []
  },
  {
   "cell_type": "markdown",
   "metadata": {},
   "source": [
    "## Import libraries"
   ]
  },
  {
   "cell_type": "code",
   "execution_count": 8,
   "metadata": {},
   "outputs": [],
   "source": [
    "import numpy as np\n",
    "import pandas as pd\n",
    "import matplotlib.pyplot as plt\n",
    "from models import linearReg\n",
    "from simus import run_ols\n",
    "from sklearn.preprocessing import StandardScaler\n",
    "from sklearn.datasets import make_regression\n",
    "from sklearn.datasets import load_boston,load_diabetes\n",
    "import warnings\n",
    "warnings.filterwarnings(\"ignore\")\n",
    "from tqdm.notebook import tqdm"
   ]
  },
  {
   "cell_type": "markdown",
   "metadata": {},
   "source": [
    "## Generate Dataset for Regression"
   ]
  },
  {
   "cell_type": "code",
   "execution_count": 9,
   "metadata": {},
   "outputs": [],
   "source": [
    "def simu_block(seed,n_samples,n_features,puiss,block_size,noise):\n",
    "    np.random.seed(seed)\n",
    "    X = np.zeros((n_samples,n_features))\n",
    "    for j in range(n_features//block_size):\n",
    "        X_j = np.random.normal(scale=(j+1)**(-puiss),size=(n_samples,block_size))\n",
    "        X[:,j*block_size:(j+1)*block_size] = X_j\n",
    "    # shuffle columns of X\n",
    "    idx = np.random.permutation(n_features)\n",
    "    X[:, :] = X[:, idx]\n",
    "    ground_truth = np.random.uniform(low=-1,high=1,size=n_features)\n",
    "    y = X@ground_truth\n",
    "    if noise > 0.0:\n",
    "        y += np.random.normal(scale=noise, size=y.shape)\n",
    "    return X, y, ground_truth"
   ]
  },
  {
   "cell_type": "markdown",
   "metadata": {},
   "source": [
    "# Example 1: n=10,000 ; p=250; puiss=5"
   ]
  },
  {
   "cell_type": "code",
   "execution_count": 10,
   "metadata": {},
   "outputs": [],
   "source": [
    "n_samples = 10000\n",
    "n_features = 250\n",
    "# Simulate data for regression\n",
    "seed=0\n",
    "puiss=5\n",
    "#puiss=10\n",
    "noise=0.01\n",
    "block_size=10"
   ]
  },
  {
   "cell_type": "code",
   "execution_count": 11,
   "metadata": {},
   "outputs": [],
   "source": [
    "X,y,coeff=simu_block(seed=seed,n_samples=n_samples,n_features=n_features,\n",
    "                     puiss=puiss,block_size=block_size,noise=noise)"
   ]
  },
  {
   "cell_type": "markdown",
   "metadata": {},
   "source": [
    "## Compute true solution"
   ]
  },
  {
   "cell_type": "code",
   "execution_count": 12,
   "metadata": {},
   "outputs": [],
   "source": [
    "𝜆 = 1/n_samples          #regularization parameter\n",
    "G = ((X.T)@X)/n_samples  # Gram matrix\n",
    "A = G + 𝜆*np.eye(n_features)\n",
    "B = ((X.T)@y)/n_samples\n",
    "ridge = np.linalg.solve(a=A ,b=B)"
   ]
  },
  {
   "cell_type": "code",
   "execution_count": 13,
   "metadata": {},
   "outputs": [
    {
     "data": {
      "text/plain": [
       "array([ 1.07172356e-07,  1.08237942e-05, -7.16278860e-01, -1.53814815e-04,\n",
       "        7.85700705e-06, -6.78309300e-07,  2.25820056e-07,  9.05084990e-06,\n",
       "        9.06194627e-07, -1.98503832e-05, -3.99174725e-07, -1.90048872e-05,\n",
       "        2.09061657e-06, -4.93685840e-03,  6.90986271e-08,  1.57520607e-07,\n",
       "       -6.85883016e-07, -9.60278050e-07,  1.45022706e-07, -1.16458796e-07,\n",
       "        4.46581683e-07, -3.13934836e-07, -2.27618049e-04,  4.49041428e-07,\n",
       "       -8.09397091e-04, -5.11250418e-05, -5.51822704e-07,  5.60362719e-03,\n",
       "        4.53145859e-01,  1.04913178e-03, -8.01992435e-04, -1.33045795e-07,\n",
       "        2.59677543e-08, -8.28822700e-01,  9.31297768e-05,  4.46203534e-07,\n",
       "       -9.55664086e-04,  2.72175231e-05, -2.31545303e-06, -2.46821418e-05,\n",
       "        6.13960020e-01, -1.88494022e-06, -1.56714407e-07,  4.22149343e-07,\n",
       "        1.19789965e-05,  7.96807146e-01, -1.22928306e-06, -6.09739294e-07,\n",
       "       -6.04501107e-07, -1.26801124e-07, -1.37095210e-07, -6.10686614e-07,\n",
       "       -1.08140519e-06,  1.02103203e-06,  6.43310118e-04,  3.11650827e-08,\n",
       "       -3.84521618e-07, -3.04598344e-07, -3.67641774e-06,  1.38834407e-07,\n",
       "        1.14766359e-07,  5.85632045e-07, -4.75189364e-08,  3.49783917e-05,\n",
       "        3.11368501e-08,  4.28581418e-07,  1.51299140e-04, -5.13740561e-06,\n",
       "       -1.76942107e-07,  4.50026625e-07, -5.76822428e-06, -7.01913994e-06,\n",
       "        1.07763850e-06, -9.93701848e-08,  5.48267180e-07, -7.86644670e-05,\n",
       "       -7.86834255e-07,  5.85522148e-05, -6.07083282e-03,  9.20955252e-03,\n",
       "        2.86630162e-06, -1.17263452e-07,  1.77928002e-07, -2.30632759e-07,\n",
       "        5.31758285e-03,  7.10054938e-08,  4.40352494e-08,  3.33387471e-05,\n",
       "       -1.55392213e-05,  1.01265376e-06,  2.49933476e-06, -5.77961766e-03,\n",
       "       -9.23262243e-07,  6.29489421e-05, -8.75438213e-07,  4.02949416e-04,\n",
       "        3.50265175e-06,  4.31410486e-07,  9.28128121e-07, -8.06714324e-01,\n",
       "        1.73184240e-01,  9.15497142e-07,  9.92176166e-07, -1.35142038e-06,\n",
       "        1.46871101e-01,  6.53647188e-01,  1.72797825e-07, -9.03314349e-08,\n",
       "       -8.24068903e-01, -3.08725276e-06, -4.70408755e-07, -1.69115233e-06,\n",
       "        3.05056357e-06,  2.94235553e-05, -5.75809583e-08,  5.78584618e-02,\n",
       "        2.79093696e-05, -7.53305467e-07, -1.93884729e-08, -1.27248017e-05,\n",
       "       -2.67058627e-05,  4.47194720e-07,  2.47520464e-03, -2.90365493e-05,\n",
       "       -3.55970669e-08,  1.01870607e-05, -5.06643909e-08,  1.13978185e-07,\n",
       "        5.70545663e-06, -1.93957211e-05,  5.37805014e-07, -4.33436995e-07,\n",
       "       -3.79861738e-06, -1.80619349e-06, -2.05736279e-03, -9.64376490e-07,\n",
       "       -2.36105389e-06,  5.46582864e-01, -1.80044463e-07,  9.93612844e-05,\n",
       "        4.63482741e-06, -1.86871985e-08, -4.68528123e-07,  4.31841930e-07,\n",
       "        8.12914440e-06, -9.94017145e-06, -1.79907437e-07,  1.29293499e-07,\n",
       "        7.39903808e-05,  9.40340755e-05,  5.14370880e-02,  1.39019965e-07,\n",
       "        4.97325785e-06, -4.85045574e-07,  8.66380427e-07,  2.23409163e-07,\n",
       "       -3.54278773e-06,  3.07439837e-04,  9.44984481e-07, -1.02231544e-07,\n",
       "        1.79400631e-06, -3.50461956e-08, -1.88500350e-05, -1.74770961e-01,\n",
       "        1.31982969e-05,  5.88245554e-06, -3.77320074e-01,  1.40221248e-06,\n",
       "        3.71746516e-06,  3.87872478e-07, -4.51473198e-05,  4.56006498e-08,\n",
       "       -1.18527327e-07,  4.96710441e-06,  1.43372754e-01, -3.45804012e-07,\n",
       "       -2.88886941e-06, -9.89441879e-01, -4.01950044e-06, -5.10220831e-07,\n",
       "        1.32374721e-06, -3.67019477e-06,  6.14164612e-06, -5.66805541e-06,\n",
       "       -6.58179035e-05, -7.64234030e-03, -5.89582535e-06, -1.98818164e-07,\n",
       "       -2.38547120e-06, -8.24639066e-08,  2.12824417e-08,  9.02630626e-07,\n",
       "       -9.41519884e-04,  1.41560384e-04, -1.07829200e-05, -3.02857734e-08,\n",
       "        2.01841642e-07,  7.57805406e-02, -6.84404017e-07,  6.30871929e-08,\n",
       "        7.37428436e-08,  2.69395433e-07,  1.67711164e-01, -1.64617148e-07,\n",
       "       -5.45183836e-05, -3.48942488e-02,  1.97951612e-07,  1.02432468e-07,\n",
       "        5.48892302e-07,  1.22391845e-07, -1.17876605e-03,  8.50700494e-06,\n",
       "       -3.40831963e-05, -2.62163504e-04,  7.95760483e-01, -8.50476368e-01,\n",
       "        1.17893280e-06,  4.54157482e-07, -8.57653295e-06, -2.17107058e-07,\n",
       "        3.32038925e-07,  3.67597102e-07,  1.86655213e-07,  5.19005321e-06,\n",
       "       -1.61303860e-03,  6.08144044e-05,  2.21366012e-07, -8.98187302e-01,\n",
       "       -2.81269815e-04,  2.87292634e-01,  7.00360940e-04, -7.27697427e-06,\n",
       "       -3.85012924e-07, -2.57886764e-03, -3.75759041e-05, -1.21356398e-04,\n",
       "        7.21854127e-07, -6.01005608e-06, -4.36593040e-07, -3.86644478e-01,\n",
       "       -5.94796749e-02, -1.52545629e-05, -2.63259757e-07,  1.92440822e-07,\n",
       "        5.56244320e-06, -8.73253583e-07, -1.83994786e-06, -1.70458431e-07,\n",
       "       -4.73868572e-01, -1.29048798e-07])"
      ]
     },
     "execution_count": 13,
     "metadata": {},
     "output_type": "execute_result"
    }
   ],
   "source": [
    "ridge"
   ]
  },
  {
   "cell_type": "code",
   "execution_count": 14,
   "metadata": {},
   "outputs": [
    {
     "name": "stdout",
     "output_type": "stream",
     "text": [
      "data_opt: 9.065047463183436e-05\n",
      "reg_opt : 0.0004180958933290465\n",
      "0.0005087463679608809\n"
     ]
    }
   ],
   "source": [
    "data_opt = np.sum((y-X.dot(ridge))**2)/(2*n_samples)\n",
    "reg_opt = (𝜆/2) * sum(ridge**2)\n",
    "loss_opt = data_opt + reg_opt\n",
    "print('data_opt:',data_opt)\n",
    "print('reg_opt :',reg_opt)\n",
    "print(loss_opt)"
   ]
  },
  {
   "cell_type": "markdown",
   "metadata": {},
   "source": [
    "## Parameter Simulations"
   ]
  },
  {
   "cell_type": "code",
   "execution_count": 18,
   "metadata": {},
   "outputs": [
    {
     "name": "stdout",
     "output_type": "stream",
     "text": [
      "𝜆=   0.0001\n",
      "eta= 0.5\n"
     ]
    }
   ],
   "source": [
    "N = int(50)  # number of passes over coordinates          \n",
    "a = 1           # numerator of learning rate\n",
    "alpha_power = 1 # power in the learning rate\n",
    "gamma = 1       # numerator in gradient factor smoothing\n",
    "mu_power = 1    # power in the gradient factor smoothing\n",
    "verbose = False # to display information\n",
    "N_exp = 5     # number of experiments\n",
    "fixed=False\n",
    "eta = 0.5\n",
    "#fixed = True\n",
    "batch_size = 1\n",
    "\n",
    "print('𝜆=  ',𝜆)\n",
    "print('eta=',eta)"
   ]
  },
  {
   "cell_type": "markdown",
   "metadata": {},
   "source": [
    "# Example 1.(a) $T=\\sqrt{p}$"
   ]
  },
  {
   "cell_type": "code",
   "execution_count": 19,
   "metadata": {},
   "outputs": [
    {
     "name": "stdout",
     "output_type": "stream",
     "text": [
      "T=   15\n"
     ]
    }
   ],
   "source": [
    "T = int(np.sqrt(n_features)) # size of exploration\n",
    "print('T=  ',T)"
   ]
  },
  {
   "cell_type": "code",
   "execution_count": 30,
   "metadata": {},
   "outputs": [
    {
     "name": "stderr",
     "output_type": "stream",
     "text": [
      "100%|██████████| 5/5 [00:09<00:00,  1.86s/it]\n"
     ]
    }
   ],
   "source": [
    "_,_,loss_full = run_ols(X=X,y=y,𝜆=𝜆,batch_size=batch_size,method='full',N_exp=N_exp,N=N,\n",
    "                   T=None,gamma=gamma,mu_power=mu_power,a=a,alpha_power=alpha_power,\n",
    "                   fixed=None,eta=None,importance=None,gains=None,verbose=False)\n",
    "l_ful = np.mean(loss_full,axis=0)\n",
    "std_ful = np.std(loss_full,axis=0)"
   ]
  },
  {
   "cell_type": "code",
   "execution_count": 21,
   "metadata": {},
   "outputs": [
    {
     "name": "stderr",
     "output_type": "stream",
     "text": [
      "100%|██████████| 5/5 [00:09<00:00,  1.94s/it]\n"
     ]
    }
   ],
   "source": [
    "_,_,loss_uni = run_ols(X=X,y=y,𝜆=𝜆,batch_size=batch_size,\n",
    "                               method='uni',N_exp=N_exp,N=N,\n",
    "                           T=None,gamma=gamma,mu_power=mu_power,a=a,alpha_power=alpha_power,\n",
    "                        fixed=None,eta=None,importance=None,gains=None,verbose=False)\n",
    "l_uni = np.mean(loss_uni,axis=0)\n",
    "std_uni = np.std(loss_uni,axis=0)"
   ]
  },
  {
   "cell_type": "markdown",
   "metadata": {},
   "source": [
    "### Musketeer biased"
   ]
  },
  {
   "cell_type": "code",
   "execution_count": 22,
   "metadata": {},
   "outputs": [
    {
     "name": "stderr",
     "output_type": "stream",
     "text": [
      "100%|██████████| 5/5 [00:13<00:00,  2.75s/it]\n",
      "100%|██████████| 5/5 [00:13<00:00,  2.79s/it]\n",
      "100%|██████████| 5/5 [00:13<00:00,  2.72s/it]\n"
     ]
    }
   ],
   "source": [
    "_,_,loss_mus_avg = run_ols(X=X,y=y,𝜆=𝜆,batch_size=batch_size,\n",
    "                       method='mus',N_exp=N_exp,N=N,\n",
    "                       T=T,gamma=gamma,mu_power=mu_power,a=a,alpha_power=alpha_power,\n",
    "                       fixed=fixed,eta=eta,importance=False,gains='avg',\n",
    "                       verbose=False)\n",
    "l_avg = np.mean(loss_mus_avg,axis=0)\n",
    "std_avg = np.std(loss_mus_avg,axis=0)\n",
    "\n",
    "_,_,loss_mus_abs = run_ols(X=X,y=y,𝜆=𝜆,batch_size=batch_size,\n",
    "                       method='mus',N_exp=N_exp,N=N,\n",
    "                       T=T,gamma=gamma,mu_power=mu_power,a=a,alpha_power=alpha_power,\n",
    "                       fixed=fixed,eta=eta,importance=False,gains='abs',\n",
    "                       verbose=False)\n",
    "l_abs = np.mean(loss_mus_abs,axis=0)\n",
    "std_abs = np.std(loss_mus_abs,axis=0)\n",
    "\n",
    "_,_,loss_mus_sqr = run_ols(X=X,y=y,𝜆=𝜆,batch_size=batch_size,\n",
    "                       method='mus',N_exp=N_exp,N=N,\n",
    "                       T=T,gamma=gamma,mu_power=mu_power,a=a,alpha_power=alpha_power,\n",
    "                       fixed=fixed,eta=eta,importance=False,gains='square',\n",
    "                       verbose=False)\n",
    "l_sqr = np.mean(loss_mus_sqr,axis=0)\n",
    "std_sqr = np.std(loss_mus_sqr,axis=0)"
   ]
  },
  {
   "cell_type": "markdown",
   "metadata": {},
   "source": [
    "# save all results"
   ]
  },
  {
   "cell_type": "code",
   "execution_count": null,
   "metadata": {},
   "outputs": [],
   "source": [
    "np.save('results/loss_ful_ridge_puiss_{}_T_sqrt.npy'.format(puiss),loss_ful)\n",
    "np.save('results/loss_uni_ridge_puiss_{}_T_sqrt.npy'.format(puiss),loss_uni)\n",
    "np.save('results/loss_avg_ridge_puiss_{}_T_sqrt.npy'.format(puiss),loss_mus_avg)\n",
    "np.save('results/loss_abs_ridge_puiss_{}_T_sqrt.npy'.format(puiss),loss_mus_abs)\n",
    "np.save('results/loss_sqr_ridge_puiss_{}_T_sqrt.npy'.format(puiss),loss_mus_sqr)"
   ]
  },
  {
   "cell_type": "markdown",
   "metadata": {},
   "source": [
    "## Plot figures"
   ]
  },
  {
   "cell_type": "code",
   "execution_count": 31,
   "metadata": {},
   "outputs": [
    {
     "data": {
      "image/png": "[encoded data removed]",
      "text/plain": [
       "<Figure size 432x432 with 1 Axes>"
      ]
     },
     "metadata": {
      "needs_background": "light"
     },
     "output_type": "display_data"
    }
   ],
   "source": [
    "#plt.figure()\n",
    "fig,ax = plt.subplots(figsize=(6,6))\n",
    "plt.plot(l_ful-loss_opt,color='orange',linestyle='dashdot',label='full')\n",
    "plt.plot(l_uni-loss_opt,color='k',linestyle='--',label='uni')\n",
    "plt.plot(l_sqr-loss_opt,color='red',marker='v',markevery=0.1,ms=4,label='mus_sqr')\n",
    "plt.plot(l_avg-loss_opt,color='b',marker='s',markevery=0.1,ms=4,label='mus_avg')\n",
    "plt.plot(l_abs-loss_opt,color='green',marker='o',markevery=0.1,ms=4,label='mus_abs')\n",
    "\n",
    "# standard deviations\n",
    "plt.fill_between(np.arange(51),l_ful-loss_opt-std_ful/2,\n",
    "                 l_ful-loss_opt+std_ful/2,alpha=0.1,color='orange')\n",
    "plt.fill_between(np.arange(51),l_uni-loss_opt-std_uni/2,\n",
    "                 l_uni-loss_opt+std_uni/2,alpha=0.1,color='k')\n",
    "plt.fill_between(np.arange(51),l_avg-loss_opt-std_avg/2,\n",
    "                 l_avg-loss_opt+std_avg/2,alpha=0.1,color='red')\n",
    "plt.fill_between(np.arange(51),l_abs-loss_opt-std_abs/2,\n",
    "                 l_abs-loss_opt+std_abs/2,alpha=0.1,color='b')\n",
    "plt.fill_between(np.arange(51),l_sqr-loss_opt-std_sqr/2,\n",
    "                 l_sqr-loss_opt+std_sqr/2,alpha=0.1,color='green')\n",
    "plt.yscale('log')\n",
    "#plt.xscale('symlog')\n",
    "plt.ylabel(r'Gap $f(\\theta_t)-f(\\theta^\\star)$',fontsize=15)\n",
    "plt.xlabel('#Queries of objective f (x1e3)',fontsize=15)\n",
    "plt.xticks(ticks=[0,10,20,30,40,50],labels=['0','5','10','15','20','25'],fontsize=15)\n",
    "plt.yticks(fontsize=15)\n",
    "plt.legend(fontsize=15)\n",
    "plt.legend(loc='lower left',fontsize=15)\n",
    "#plt.legend(loc='upper right',fontsize=13)\n",
    "plt.grid(linestyle='--',which='both',alpha=0.5)\n",
    "#plt.title('Ridge Regression',fontsize=15)\n",
    "plt.tight_layout()\n",
    "ax.spines[\"right\"].set_visible(False)\n",
    "ax.spines[\"top\"].set_visible(False)\n",
    "#filename = 'ridge_zo_puiss{}_sqrt.pdf'.format(puiss)\n",
    "#plt.savefig(filename,bbox_inches='tight',transparent=True, pad_inches=0)\n",
    "plt.show()"
   ]
  },
  {
   "cell_type": "markdown",
   "metadata": {},
   "source": [
    "### Musketeer -Importance Sampling (IS)"
   ]
  },
  {
   "cell_type": "code",
   "execution_count": 16,
   "metadata": {},
   "outputs": [
    {
     "name": "stderr",
     "output_type": "stream",
     "text": [
      "100%|██████████| 3/3 [00:08<00:00,  2.86s/it]\n",
      "100%|██████████| 3/3 [00:07<00:00,  2.63s/it]\n",
      "100%|██████████| 3/3 [00:08<00:00,  2.73s/it]\n"
     ]
    }
   ],
   "source": [
    "_,_,loss_mus_avg_is = run_ols(X=X,y=y,𝜆=𝜆,batch_size=batch_size,\n",
    "                       method='mus',N_exp=N_exp,N=N,\n",
    "                       T=T,gamma=gamma,mu_power=mu_power,a=a,alpha_power=alpha_power,\n",
    "                       fixed=fixed,eta=eta,importance=True,gains='avg',\n",
    "                       verbose=False)\n",
    "l_avg_is = np.mean(loss_mus_avg_is,axis=0)\n",
    "\n",
    "\n",
    "_,_,loss_mus_abs_is = run_ols(X=X,y=y,𝜆=𝜆,batch_size=batch_size,\n",
    "                       method='mus',N_exp=N_exp,N=N,\n",
    "                       T=T,gamma=gamma,mu_power=mu_power,a=a,alpha_power=alpha_power,\n",
    "                       fixed=fixed,eta=eta,importance=True,gains='abs',\n",
    "                       verbose=False)\n",
    "l_abs_is = np.mean(loss_mus_abs_is,axis=0)\n",
    "\n",
    "\n",
    "_,_,loss_mus_sqr_is = run_ols(X=X,y=y,𝜆=𝜆,batch_size=batch_size,\n",
    "                       method='mus',N_exp=N_exp,N=N,\n",
    "                       T=T,gamma=gamma,mu_power=mu_power,a=a,alpha_power=alpha_power,\n",
    "                       fixed=fixed,eta=eta,importance=True,gains='square',\n",
    "                       verbose=False)\n",
    "l_sqr_is = np.mean(loss_mus_sqr_is,axis=0)"
   ]
  },
  {
   "cell_type": "code",
   "execution_count": null,
   "metadata": {},
   "outputs": [],
   "source": []
  }
 ],
 "metadata": {
  "kernelspec": {
   "display_name": "Python 3",
   "language": "python",
   "name": "python3"
  },
  "language_info": {
   "codemirror_mode": {
    "name": "ipython",
    "version": 3
   },
   "file_extension": ".py",
   "mimetype": "text/x-python",
   "name": "python",
   "nbconvert_exporter": "python",
   "pygments_lexer": "ipython3",
   "version": "3.7.5"
  }
 },
 "nbformat": 4,
 "nbformat_minor": 2
}
