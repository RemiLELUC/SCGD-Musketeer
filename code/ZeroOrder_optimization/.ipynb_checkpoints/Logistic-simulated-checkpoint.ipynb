{
 "cells": [
  {
   "cell_type": "markdown",
   "metadata": {},
   "source": [
    "# <center> ZO-optimization\n",
    "    \n",
    "### Author: Rémi LELUC\n",
    "### Date : April 14th, 2021"
   ]
  },
  {
   "cell_type": "markdown",
   "metadata": {},
   "source": []
  },
  {
   "cell_type": "markdown",
   "metadata": {},
   "source": [
    "## Import libraries"
   ]
  },
  {
   "cell_type": "code",
   "execution_count": 160,
   "metadata": {},
   "outputs": [],
   "source": [
    "import numpy as np\n",
    "import pandas as pd\n",
    "import matplotlib.pyplot as plt\n",
    "from models import logisticReg\n",
    "from simus import run_log\n",
    "from sklearn.preprocessing import StandardScaler\n",
    "from sklearn.linear_model import LogisticRegression\n",
    "from sklearn.datasets import make_classification\n",
    "from sklearn.datasets import load_breast_cancer,load_diabetes\n",
    "import warnings\n",
    "warnings.filterwarnings(\"ignore\")\n",
    "from tqdm.notebook import tqdm\n"
   ]
  },
  {
   "cell_type": "code",
   "execution_count": 161,
   "metadata": {},
   "outputs": [],
   "source": [
    "# without intercept\n",
    "def simu_block(seed,n_samples,n_features,puiss,block_size,noise):\n",
    "    np.random.seed(seed)\n",
    "    X = np.zeros((n_samples,n_features))\n",
    "    for j in range(n_features//block_size):\n",
    "        X_j = np.random.normal(scale=(j+1)**(-puiss),size=(n_samples,block_size))\n",
    "        X[:,j*block_size:(j+1)*block_size] = X_j\n",
    "    # shuffle columns of X\n",
    "    indices = np.arange(n_features)\n",
    "    np.random.shuffle(indices)\n",
    "    X[:,:] = X[:, indices]\n",
    "    ground_truth = np.random.uniform(low=0,high=1,size=n_features)\n",
    "    y = np.ones(n_samples)\n",
    "    h = 1/(1+np.exp(-X@ground_truth))\n",
    "    if noise > 0.0:\n",
    "        h += np.random.normal(scale=noise, size=y.shape)\n",
    "    y[h<=0.5]=-1\n",
    "    #indices = np.arange(n_features)\n",
    "    #np.random.shuffle(indices)\n",
    "    #X[:,:] = X[:, indices]\n",
    "    # Add noise\n",
    "    return X, y"
   ]
  },
  {
   "cell_type": "code",
   "execution_count": 162,
   "metadata": {},
   "outputs": [
    {
     "name": "stdout",
     "output_type": "stream",
     "text": [
      "158.0\n"
     ]
    }
   ],
   "source": [
    "puiss=5\n",
    "\n",
    "# Parameters\n",
    "n_samples = 10000   # number of samples\n",
    "n_features = 250    # dimension of the problem\n",
    "𝜆 = 1/(n_samples)#regularization parameter\n",
    "# Simulate data for regression\n",
    "seed=0\n",
    "noise=0.01\n",
    "block_size=10\n",
    "\n",
    "X,y=simu_block(seed=seed,n_samples=n_samples,n_features=n_features,\n",
    "               puiss=puiss,block_size=block_size,noise=noise)\n",
    "print(y.sum())"
   ]
  },
  {
   "cell_type": "code",
   "execution_count": 163,
   "metadata": {},
   "outputs": [
    {
     "data": {
      "text/plain": [
       "(array([-1.,  1.]), array([4921, 5079]))"
      ]
     },
     "execution_count": 163,
     "metadata": {},
     "output_type": "execute_result"
    }
   ],
   "source": [
    "np.unique(y,return_counts=True)"
   ]
  },
  {
   "cell_type": "markdown",
   "metadata": {},
   "source": [
    "## Compute true solution"
   ]
  },
  {
   "cell_type": "code",
   "execution_count": 164,
   "metadata": {},
   "outputs": [
    {
     "name": "stdout",
     "output_type": "stream",
     "text": [
      "optimal Coeff:\n",
      "[-3.77534042e-01 -2.45268895e-01 -2.19767531e-01 -2.89308997e-02\n",
      " -2.34046248e-02 -2.02121926e-02 -1.84637210e-02 -1.68834945e-02\n",
      " -1.45736775e-02 -1.44032135e-02 -7.38932839e-03 -7.12165249e-03\n",
      " -7.09179779e-03 -5.81068660e-03 -4.92621338e-03 -4.06290739e-03\n",
      " -3.00536588e-03 -2.85994251e-03 -2.76961575e-03 -2.44319161e-03\n",
      " -2.32600668e-03 -1.54154999e-03 -1.52132824e-03 -1.47857435e-03\n",
      " -1.19508802e-03 -1.19244391e-03 -9.72093794e-04 -5.54164421e-04\n",
      " -5.38950430e-04 -4.97545069e-04 -2.34674085e-04 -1.80247292e-04\n",
      " -1.44533016e-04 -1.40306155e-04 -1.22309005e-04 -9.78499687e-05\n",
      " -9.15630219e-05 -7.94923457e-05 -7.50595484e-05 -7.24887123e-05\n",
      " -6.70738901e-05 -6.66117153e-05 -6.21614111e-05 -4.79565266e-05\n",
      " -4.43244209e-05 -4.16177935e-05 -4.12171230e-05 -3.46164319e-05\n",
      " -3.37810932e-05 -3.26082941e-05 -3.08840732e-05 -3.02405648e-05\n",
      " -2.92844569e-05 -2.68950202e-05 -2.16022547e-05 -1.21198013e-05\n",
      " -1.13288151e-05 -1.08675240e-05 -9.91767655e-06 -8.97671068e-06\n",
      " -8.49864414e-06 -8.48512956e-06 -8.45603063e-06 -7.86106128e-06\n",
      " -7.08776591e-06 -6.91434122e-06 -6.17346176e-06 -5.52033014e-06\n",
      " -5.31126355e-06 -4.59301318e-06 -4.56877098e-06 -4.23446137e-06\n",
      " -3.98557008e-06 -3.95073521e-06 -3.15522474e-06 -3.09029009e-06\n",
      " -2.99822005e-06 -2.96110302e-06 -2.96082982e-06 -2.95745672e-06\n",
      " -2.38679757e-06 -2.21370300e-06 -2.00532513e-06 -1.97988666e-06\n",
      " -1.91310198e-06 -1.74929950e-06 -1.69061568e-06 -1.62109527e-06\n",
      " -1.60450784e-06 -1.59493649e-06 -1.47656822e-06 -1.47509348e-06\n",
      " -1.45398152e-06 -1.08126430e-06 -1.05433812e-06 -1.00743581e-06\n",
      " -8.95948772e-07 -8.86715459e-07 -8.61250703e-07 -8.30040658e-07\n",
      " -6.27004292e-07 -6.04831526e-07 -5.97050255e-07 -5.54591840e-07\n",
      " -3.66889373e-07 -1.83775773e-07 -1.31657352e-07 -8.64705136e-08\n",
      " -7.26552190e-08 -4.38976253e-08  2.45043405e-08  9.75580833e-08\n",
      "  1.70749274e-07  2.21063675e-07  2.83771829e-07  3.30672476e-07\n",
      "  4.18334736e-07  6.11566875e-07  6.12796178e-07  6.16935062e-07\n",
      "  6.29526701e-07  6.41048641e-07  7.11203821e-07  7.86166407e-07\n",
      "  8.11706814e-07  8.27229256e-07  8.41863349e-07  9.14046969e-07\n",
      "  9.39386668e-07  9.70351034e-07  9.97106966e-07  1.08194682e-06\n",
      "  1.13199999e-06  1.20663489e-06  1.21317229e-06  1.26995457e-06\n",
      "  1.58731318e-06  1.60532054e-06  1.82218723e-06  1.97272466e-06\n",
      "  2.03687611e-06  2.22919919e-06  2.23492474e-06  2.24705871e-06\n",
      "  2.27935279e-06  2.34345916e-06  2.39998998e-06  2.58447837e-06\n",
      "  2.59597625e-06  2.75113285e-06  2.96686577e-06  2.96903369e-06\n",
      "  2.98585804e-06  3.13445649e-06  3.38798349e-06  3.41153355e-06\n",
      "  3.50458416e-06  3.79834792e-06  3.83151038e-06  3.94321840e-06\n",
      "  4.70997702e-06  4.81833448e-06  4.86129556e-06  4.98945833e-06\n",
      "  5.10216274e-06  5.13928421e-06  5.26040052e-06  5.42611102e-06\n",
      "  6.45035176e-06  7.13903374e-06  7.67288328e-06  8.27995081e-06\n",
      "  8.37943138e-06  8.47292814e-06  9.39725554e-06  1.05536381e-05\n",
      "  1.16702792e-05  1.29325510e-05  1.30927958e-05  1.31641086e-05\n",
      "  1.34509095e-05  1.46951825e-05  1.66450207e-05  1.70819171e-05\n",
      "  1.75175189e-05  1.91971841e-05  2.42421691e-05  2.50691341e-05\n",
      "  2.52121877e-05  3.07480703e-05  3.41703374e-05  5.25769495e-05\n",
      "  5.26722414e-05  5.33514517e-05  5.49362346e-05  6.17410255e-05\n",
      "  7.05469780e-05  7.79002452e-05  7.86404345e-05  9.54511814e-05\n",
      "  1.06799629e-04  1.08517086e-04  1.10413049e-04  1.11535473e-04\n",
      "  1.14703969e-04  1.24374671e-04  1.26067030e-04  1.66239398e-04\n",
      "  1.72727669e-04  2.60614704e-04  2.60842799e-04  3.11214651e-04\n",
      "  3.21341526e-04  3.59895676e-04  4.19299403e-04  4.85810370e-04\n",
      "  7.15393571e-04  7.84454684e-04  9.54007167e-04  9.77875581e-04\n",
      "  1.05882705e-03  1.25773368e-03  1.39885768e-03  1.76593980e-03\n",
      "  2.37297190e-03  3.03720559e-03  3.12995743e-03  3.27057363e-03\n",
      "  3.44293049e-03  8.45952625e-03  9.09813965e-03  2.47127938e-02\n",
      "  2.64089585e-02  7.76278212e-02  9.17148766e-02  5.37162945e-01\n",
      "  5.46867847e-01  6.36960943e-01  6.93108109e-01  9.10856624e-01\n",
      "  1.46716983e+00  1.58219892e+00  2.92873422e+00  3.93138978e+00\n",
      "  5.55632090e+00  5.57984069e+00  7.41459694e+00  7.67972977e+00\n",
      "  7.86897341e+00  8.56797436e+00]\n"
     ]
    }
   ],
   "source": [
    "λ = 1/X.shape[0]\n",
    "c = 1/(X.shape[0]*λ)\n",
    "log_sk = LogisticRegression(C=c,fit_intercept=False,tol=1e-6)\n",
    "# fit sklearn model\n",
    "log_sk.fit(X=X,y=y)\n",
    "coeff = log_sk.coef_[0]\n",
    "print('optimal Coeff:')\n",
    "print(np.sort(coeff))"
   ]
  },
  {
   "cell_type": "code",
   "execution_count": 165,
   "metadata": {},
   "outputs": [
    {
     "name": "stdout",
     "output_type": "stream",
     "text": [
      "data_term: 0.038950714898634234\n",
      "reg_term : 0.01712777240859132\n",
      "loss_opt : 0.056078487307225554\n"
     ]
    }
   ],
   "source": [
    "data_term  = np.log(1+np.exp(np.multiply(-y,X@coeff))).mean()\n",
    "reg_term = (𝜆/2)*sum(coeff**2)\n",
    "print('data_term:',data_term)\n",
    "print('reg_term :',reg_term)\n",
    "# Optimal loss\n",
    "log = logisticReg(X=X,y=y,λ=λ,fit_intercept=False)\n",
    "loss_opt = log.loss(batch=np.arange(X.shape[0]),w=coeff)\n",
    "print('loss_opt :',loss_opt)"
   ]
  },
  {
   "cell_type": "markdown",
   "metadata": {},
   "source": [
    "## Parameter Simulations"
   ]
  },
  {
   "cell_type": "code",
   "execution_count": 194,
   "metadata": {},
   "outputs": [
    {
     "name": "stdout",
     "output_type": "stream",
     "text": [
      "𝜆=   0.0001\n",
      "eta= 0.5\n"
     ]
    }
   ],
   "source": [
    "n_samples,n_features = X.shape\n",
    "N = int(150)  # number of passes over coordinates          \n",
    "a = 3           # numerator of learning rate\n",
    "t0 = 5\n",
    "alpha_power = 1 # power in the learning rate\n",
    "gamma = 1       # numerator in gradient factor smoothing\n",
    "mu_power = 1    # power in the gradient factor smoothing\n",
    "verbose = False # to display information\n",
    "N_exp = 2     # number of experiments\n",
    "fixed=False\n",
    "eta = 0.5\n",
    "#fixed = True\n",
    "batch_size = 1\n",
    "\n",
    "print('𝜆=  ',𝜆)\n",
    "print('eta=',eta)"
   ]
  },
  {
   "cell_type": "markdown",
   "metadata": {},
   "source": [
    "# Example 1.(a) $T=\\sqrt{p}$"
   ]
  },
  {
   "cell_type": "code",
   "execution_count": 195,
   "metadata": {},
   "outputs": [
    {
     "name": "stdout",
     "output_type": "stream",
     "text": [
      "T=   15\n"
     ]
    }
   ],
   "source": [
    "T = int(np.sqrt(n_features)) # size of exploration\n",
    "#T = n_features\n",
    "print('T=  ',T)"
   ]
  },
  {
   "cell_type": "code",
   "execution_count": 196,
   "metadata": {},
   "outputs": [
    {
     "name": "stderr",
     "output_type": "stream",
     "text": [
      "100%|██████████| 2/2 [00:08<00:00,  4.20s/it]\n"
     ]
    }
   ],
   "source": [
    "_,_,loss_full = run_log(X=X,y=y,𝜆=𝜆,fit_intercept=False,batch_size=batch_size,method='full',N_exp=N_exp,N=N,\n",
    "                   T=None,gamma=gamma,mu_power=mu_power,a=a,t0=t0,alpha_power=alpha_power,\n",
    "                   fixed=None,eta=None,importance=None,gains=None,verbose=False)\n",
    "l_ful = np.mean(loss_full,axis=0)\n",
    "std_ful = np.std(loss_full,axis=0)"
   ]
  },
  {
   "cell_type": "code",
   "execution_count": 197,
   "metadata": {},
   "outputs": [
    {
     "name": "stderr",
     "output_type": "stream",
     "text": [
      "100%|██████████| 2/2 [00:09<00:00,  4.75s/it]\n"
     ]
    }
   ],
   "source": [
    "_,_,loss_uni = run_log(X=X,y=y,𝜆=𝜆,batch_size=batch_size,fit_intercept=False,\n",
    "                               method='uni',N_exp=N_exp,N=N,\n",
    "                           T=None,gamma=gamma,mu_power=mu_power,a=a,t0=t0,alpha_power=alpha_power,\n",
    "                        fixed=None,eta=None,importance=None,gains=None,verbose=False)\n",
    "l_uni = np.mean(loss_uni,axis=0)\n",
    "std_uni = np.std(loss_uni,axis=0)"
   ]
  },
  {
   "cell_type": "markdown",
   "metadata": {},
   "source": [
    "### Musketeer biased"
   ]
  },
  {
   "cell_type": "code",
   "execution_count": 198,
   "metadata": {},
   "outputs": [
    {
     "name": "stderr",
     "output_type": "stream",
     "text": [
      "100%|██████████| 2/2 [00:13<00:00,  6.92s/it]\n"
     ]
    }
   ],
   "source": [
    "_,_,loss_mus_avg = run_log(X=X,y=y,𝜆=𝜆,fit_intercept=False,batch_size=batch_size,\n",
    "                       method='mus',N_exp=N_exp,N=N,\n",
    "                       T=T,gamma=gamma,mu_power=mu_power,a=a,t0=t0,alpha_power=alpha_power,\n",
    "                       fixed=fixed,eta=eta,importance=False,gains='avg',\n",
    "                       verbose=False)\n",
    "l_avg = np.mean(loss_mus_avg,axis=0)\n",
    "std_avg = np.std(loss_mus_avg,axis=0)"
   ]
  },
  {
   "cell_type": "code",
   "execution_count": null,
   "metadata": {},
   "outputs": [
    {
     "name": "stderr",
     "output_type": "stream",
     "text": [
      "100%|██████████| 2/2 [00:13<00:00,  6.91s/it]\n",
      "  0%|          | 0/2 [00:00<?, ?it/s]"
     ]
    }
   ],
   "source": [
    "\n",
    "\n",
    "_,_,loss_mus_abs = run_log(X=X,y=y,𝜆=𝜆,fit_intercept=False,batch_size=batch_size,\n",
    "                       method='mus',N_exp=N_exp,N=N,\n",
    "                       T=T,gamma=gamma,mu_power=mu_power,a=a,t0=t0,alpha_power=alpha_power,\n",
    "                       fixed=fixed,eta=eta,importance=False,gains='abs',\n",
    "                       verbose=False)\n",
    "l_abs = np.mean(loss_mus_abs,axis=0)\n",
    "std_abs = np.std(loss_mus_abs,axis=0)\n",
    "\n",
    "_,_,loss_mus_sqr = run_log(X=X,y=y,𝜆=𝜆,fit_intercept=False,batch_size=batch_size,\n",
    "                       method='mus',N_exp=N_exp,N=N,\n",
    "                       T=T,gamma=gamma,mu_power=mu_power,a=a,t0=t0,alpha_power=alpha_power,\n",
    "                       fixed=fixed,eta=eta,importance=False,gains='square',\n",
    "                       verbose=False)\n",
    "l_sqr = np.mean(loss_mus_sqr,axis=0)\n",
    "std_sqr = np.std(loss_mus_sqr,axis=0)"
   ]
  },
  {
   "cell_type": "code",
   "execution_count": null,
   "metadata": {},
   "outputs": [],
   "source": [
    "_,_,loss_nes = run_log(X=X,y=y,𝜆=𝜆,fit_intercept=False,batch_size=batch_size,\n",
    "                       method='nes',N_exp=N_exp,N=N,\n",
    "                       T=T,gamma=gamma,mu_power=mu_power,a=a,t0=t0,alpha_power=alpha_power,\n",
    "                       fixed=fixed,eta=eta,importance=False,gains='square',\n",
    "                       verbose=False)\n",
    "l_nes = np.mean(loss_nes,axis=0)\n",
    "std_nes = np.std(loss_nes,axis=0)"
   ]
  },
  {
   "cell_type": "markdown",
   "metadata": {},
   "source": [
    "# save all results"
   ]
  },
  {
   "cell_type": "code",
   "execution_count": 192,
   "metadata": {},
   "outputs": [],
   "source": [
    "#np.save('results/loss_ful_log_zo_puiss_{}.npy'.format(puiss),loss_full)\n",
    "#np.save('results/loss_uni_log_zo_puiss_{}.npy'.format(puiss),loss_uni)\n",
    "#np.save('results/loss_avg_log_zo_puiss_{}.npy'.format(puiss),loss_mus_avg)\n",
    "#np.save('results/loss_abs_log_zo_puiss_{}.npy'.format(puiss),loss_mus_abs)\n",
    "#np.save('results/loss_sqr_log_zo_puiss_{}.npy'.format(puiss),loss_mus_sqr)\n",
    "#np.save('results/loss_nes_log_zo_puiss_{}.npy'.format(puiss),loss_nes)"
   ]
  },
  {
   "cell_type": "markdown",
   "metadata": {},
   "source": [
    "## Plot figures"
   ]
  },
  {
   "cell_type": "code",
   "execution_count": 193,
   "metadata": {},
   "outputs": [
    {
     "data": {
      "image/png": "[encoded data removed]",
      "text/plain": [
       "<Figure size 432x432 with 1 Axes>"
      ]
     },
     "metadata": {
      "needs_background": "light"
     },
     "output_type": "display_data"
    }
   ],
   "source": [
    "fig,ax = plt.subplots(figsize=(6,6))\n",
    "plt.plot(l_ful-loss_opt,color='orange',linestyle='dashdot',label='full')\n",
    "plt.plot(l_uni-loss_opt,color='k',linestyle='--',label='uniform')\n",
    "plt.plot(l_nes-loss_opt,color='purple',marker='p',markevery=0.1,ms=4,label='nesterov')\n",
    "plt.plot(l_sqr-loss_opt,color='red',marker='v',markevery=0.1,ms=4,label='mus_sqr')\n",
    "plt.plot(l_avg-loss_opt,color='b',marker='s',markevery=0.1,ms=4,label='mus_avg')\n",
    "plt.plot(l_abs-loss_opt,color='green',marker='o',markevery=0.1,ms=4,label='mus_abs')\n",
    "\n",
    "# standard deviations\n",
    "plt.fill_between(np.arange(N+1),l_ful-loss_opt-std_ful/2,\n",
    "                 l_ful-loss_opt+std_ful/2,alpha=0.05,color='orange')\n",
    "plt.fill_between(np.arange(N+1),l_uni-loss_opt-std_uni/2,\n",
    "                 l_uni-loss_opt+std_uni/2,alpha=0.05,color='k')\n",
    "plt.fill_between(np.arange(N+1),l_sqr-loss_opt-std_sqr/2,\n",
    "                 l_sqr-loss_opt+std_sqr/2,alpha=0.05,color='red')\n",
    "plt.fill_between(np.arange(N+1),l_avg-loss_opt-std_avg/2,\n",
    "                 l_avg-loss_opt+std_avg/2,alpha=0.05,color='b')\n",
    "plt.fill_between(np.arange(N+1),l_abs-loss_opt-std_abs/2,\n",
    "                 l_abs-loss_opt+std_abs/2,alpha=0.05,color='green')\n",
    "plt.fill_between(np.arange(N+1),l_nes-loss_opt-std_nes/2,\n",
    "                 l_nes-loss_opt+std_nes/2,alpha=0.1,color='purple')\n",
    "\n",
    "plt.yscale('log')\n",
    "#plt.xscale('symlog')\n",
    "plt.ylabel(r'Optimality Gap $f(\\theta_t)-f(\\theta^\\star)$',fontsize=15)\n",
    "plt.xlabel('#Queries of loss f_i (x1e3)',fontsize=15)\n",
    "#plt.xticks(ticks=[0,50,100,150,200],labels=['0','25','50','75','100'],fontsize=15)\n",
    "plt.yticks(fontsize=15)\n",
    "plt.legend(fontsize=15)\n",
    "#plt.legend(loc='lower left',fontsize=15)\n",
    "plt.legend(loc='upper right',fontsize=13)\n",
    "plt.grid(linestyle='--',which='both',alpha=0.5)\n",
    "#plt.title('Ridge Regression',fontsize=15)\n",
    "plt.tight_layout()\n",
    "ax.spines[\"right\"].set_visible(False)\n",
    "ax.spines[\"top\"].set_visible(False)\n",
    "#filename = 'logistic_zero_puiss{}.pdf'.format(puiss)\n",
    "#plt.savefig(filename,bbox_inches='tight',transparent=True, pad_inches=0)\n",
    "plt.show()"
   ]
  },
  {
   "cell_type": "code",
   "execution_count": null,
   "metadata": {},
   "outputs": [],
   "source": [
    "#plt.figure()\n",
    "fig,ax = plt.subplots(figsize=(6,6))\n",
    "plt.plot(l_ful-loss_opt,color='orange',linestyle='dashdot',label='full')\n",
    "plt.plot(l_uni-loss_opt,color='k',linestyle='--',label='uniform')\n",
    "plt.plot(l_nes-loss_opt,color='purple',marker='p',markevery=0.1,ms=4,label='nesterov')\n",
    "plt.plot(l_sqr-loss_opt,color='red',marker='v',markevery=0.1,ms=4,label='mus_sqr')\n",
    "plt.plot(l_avg-loss_opt,color='b',marker='s',markevery=0.1,ms=4,label='mus_avg')\n",
    "plt.plot(l_abs-loss_opt,color='green',marker='o',markevery=0.1,ms=4,label='mus_abs')\n",
    "\n",
    "# standard deviations\n",
    "plt.fill_between(np.arange(N+1),l_ful-loss_opt-std_ful/2,\n",
    "                 l_ful-loss_opt+std_ful/2,alpha=0.05,color='orange')\n",
    "plt.fill_between(np.arange(N+1),l_uni-loss_opt-std_uni/2,\n",
    "                 l_uni-loss_opt+std_uni/2,alpha=0.05,color='k')\n",
    "plt.fill_between(np.arange(N+1),l_sqr-loss_opt-std_sqr/2,\n",
    "                 l_sqr-loss_opt+std_sqr/2,alpha=0.05,color='red')\n",
    "plt.fill_between(np.arange(N+1),l_avg-loss_opt-std_avg/2,\n",
    "                 l_avg-loss_opt+std_avg/2,alpha=0.05,color='b')\n",
    "plt.fill_between(np.arange(N+1),l_abs-loss_opt-std_abs/2,\n",
    "                 l_abs-loss_opt+std_abs/2,alpha=0.05,color='green')\n",
    "plt.fill_between(np.arange(N+1),l_nes-loss_opt-std_nes/2,\n",
    "                 l_nes-loss_opt+std_nes/2,alpha=0.1,color='purple')\n",
    "\n",
    "plt.yscale('log')\n",
    "#plt.xscale('symlog')\n",
    "plt.ylabel(r'Optimality Gap $f(\\theta_t)-f(\\theta^\\star)$',fontsize=15)\n",
    "plt.xlabel('#Queries of loss f_i (x1e3)',fontsize=15)\n",
    "plt.xticks(ticks=[0,50,100,150,200],labels=['0','25','50','75','100'],fontsize=15)\n",
    "plt.yticks(fontsize=15)\n",
    "plt.legend(fontsize=15)\n",
    "#plt.legend(loc='lower left',fontsize=15)\n",
    "plt.legend(loc='upper right',fontsize=13)\n",
    "plt.grid(linestyle='--',which='both',alpha=0.5)\n",
    "#plt.title('Ridge Regression',fontsize=15)\n",
    "plt.tight_layout()\n",
    "ax.spines[\"right\"].set_visible(False)\n",
    "ax.spines[\"top\"].set_visible(False)\n",
    "#filename = 'logistic_zero_puiss10.pdf'.format(puiss)\n",
    "#plt.savefig(filename,bbox_inches='tight',transparent=True, pad_inches=0)\n",
    "plt.show()"
   ]
  },
  {
   "cell_type": "markdown",
   "metadata": {},
   "source": [
    "# Example 1.(b) $T=p$"
   ]
  },
  {
   "cell_type": "code",
   "execution_count": null,
   "metadata": {},
   "outputs": [],
   "source": [
    "T = int(n_features) # size of exploration\n",
    "print('T=  ',T)"
   ]
  },
  {
   "cell_type": "code",
   "execution_count": null,
   "metadata": {},
   "outputs": [],
   "source": [
    "_,_,loss_full = run_log(X=X,y=y,𝜆=𝜆,fit_intercept=False,batch_size=batch_size,method='full',N_exp=N_exp,N=N,\n",
    "                   T=None,gamma=gamma,mu_power=mu_power,a=a,alpha_power=alpha_power,\n",
    "                   fixed=None,eta=None,importance=None,gains=None,verbose=False)\n",
    "l_ful = np.mean(loss_full,axis=0)\n",
    "std_ful = np.std(loss_full,axis=0)\n",
    "\n",
    "_,_,loss_uni = run_log(X=X,y=y,𝜆=𝜆,fit_intercept=False,batch_size=batch_size,\n",
    "                               method='uni',N_exp=N_exp,N=N,\n",
    "                           T=None,gamma=gamma,mu_power=mu_power,a=a,alpha_power=alpha_power,\n",
    "                        fixed=None,eta=None,importance=None,gains=None,verbose=False)\n",
    "l_uni = np.mean(loss_uni,axis=0)\n",
    "std_uni = np.std(loss_uni,axis=0)\n",
    "\n",
    "_,_,loss_mus_avg = run_log(X=X,y=y,𝜆=𝜆,fit_intercept=False,batch_size=batch_size,\n",
    "                       method='mus',N_exp=N_exp,N=N,\n",
    "                       T=T,gamma=gamma,mu_power=mu_power,a=a,alpha_power=alpha_power,\n",
    "                       fixed=fixed,eta=eta,importance=False,gains='avg',\n",
    "                       verbose=False)\n",
    "l_avg = np.mean(loss_mus_avg,axis=0)\n",
    "std_avg = np.std(loss_mus_avg,axis=0)\n",
    "\n",
    "_,_,loss_mus_abs = run_log(X=X,y=y,𝜆=𝜆,fit_intercept=False,batch_size=batch_size,\n",
    "                       method='mus',N_exp=N_exp,N=N,\n",
    "                       T=T,gamma=gamma,mu_power=mu_power,a=a,alpha_power=alpha_power,\n",
    "                       fixed=fixed,eta=eta,importance=False,gains='abs',\n",
    "                       verbose=False)\n",
    "l_abs = np.mean(loss_mus_abs,axis=0)\n",
    "std_abs = np.std(loss_mus_abs,axis=0)\n",
    "\n",
    "_,_,loss_mus_sqr = run_log(X=X,y=y,𝜆=𝜆,fit_intercept=False,batch_size=batch_size,\n",
    "                       method='mus',N_exp=N_exp,N=N,\n",
    "                       T=T,gamma=gamma,mu_power=mu_power,a=a,alpha_power=alpha_power,\n",
    "                       fixed=fixed,eta=eta,importance=False,gains='square',\n",
    "                       verbose=False)\n",
    "l_sqr = np.mean(loss_mus_sqr,axis=0)\n",
    "std_sqr = np.std(loss_mus_sqr,axis=0)"
   ]
  },
  {
   "cell_type": "code",
   "execution_count": null,
   "metadata": {},
   "outputs": [],
   "source": [
    "#np.save('results/loss_ful_ridge_puiss_{}_T_full.npy'.format(puiss),loss_full)\n",
    "#np.save('results/loss_uni_ridge_puiss_{}_T_full.npy'.format(puiss),loss_uni)\n",
    "#np.save('results/loss_avg_ridge_puiss_{}_T_full.npy'.format(puiss),loss_mus_avg)\n",
    "#np.save('results/loss_abs_ridge_puiss_{}_T_full.npy'.format(puiss),loss_mus_abs)\n",
    "#np.save('results/loss_sqr_ridge_puiss_{}_T_full.npy'.format(puiss),loss_mus_sqr)"
   ]
  },
  {
   "cell_type": "code",
   "execution_count": null,
   "metadata": {},
   "outputs": [],
   "source": [
    "#plt.figure()\n",
    "fig,ax = plt.subplots(figsize=(6,6))\n",
    "plt.plot(l_ful-loss_opt,color='orange',linestyle='dashdot',label='full')\n",
    "plt.plot(l_uni-loss_opt,color='k',linestyle='--',label='uniform')\n",
    "plt.plot(l_sqr-loss_opt,color='red',marker='v',markevery=0.1,ms=4,label='mus_sqr')\n",
    "plt.plot(l_avg-loss_opt,color='b',marker='s',markevery=0.1,ms=4,label='mus_avg')\n",
    "plt.plot(l_abs-loss_opt,color='green',marker='o',markevery=0.1,ms=4,label='mus_abs')\n",
    "\n",
    "# standard deviations\n",
    "plt.fill_between(np.arange(51),l_ful-loss_opt-std_ful/2,\n",
    "                 l_ful-loss_opt+std_ful/2,alpha=0.1,color='orange')\n",
    "plt.fill_between(np.arange(51),l_uni-loss_opt-std_uni/2,\n",
    "                 l_uni-loss_opt+std_uni/2,alpha=0.1,color='k')\n",
    "plt.fill_between(np.arange(51),l_sqr-loss_opt-std_sqr/2,\n",
    "                 l_sqr-loss_opt+std_sqr/2,alpha=0.1,color='red')\n",
    "plt.fill_between(np.arange(51),l_avg-loss_opt-std_avg/2,\n",
    "                 l_avg-loss_opt+std_avg/2,alpha=0.1,color='b')\n",
    "plt.fill_between(np.arange(51),l_abs-loss_opt-std_abs/2,\n",
    "                 l_abs-loss_opt+std_abs/2,alpha=0.1,color='green')\n",
    "\n",
    "plt.yscale('log')\n",
    "#plt.xscale('symlog')\n",
    "plt.ylabel(r'Optimality Gap $f(\\theta_t)-f(\\theta^\\star)$',fontsize=15)\n",
    "plt.xlabel('#Queries of objective f (x1e3)',fontsize=15)\n",
    "plt.xticks(ticks=[0,10,20,30,40,50],labels=['0','5','10','15','20','25'],fontsize=15)\n",
    "plt.yticks(fontsize=15)\n",
    "plt.legend(fontsize=15)\n",
    "plt.legend(loc='lower left',fontsize=15)\n",
    "#plt.legend(loc='upper right',fontsize=13)\n",
    "plt.grid(linestyle='--',which='both',alpha=0.5)\n",
    "#plt.title('Ridge Regression',fontsize=15)\n",
    "plt.tight_layout()\n",
    "ax.spines[\"right\"].set_visible(False)\n",
    "ax.spines[\"top\"].set_visible(False)\n",
    "#filename = 'ridge_zo_puiss{}_full.pdf'.format(puiss)\n",
    "#plt.savefig(filename,bbox_inches='tight',transparent=True, pad_inches=0)\n",
    "plt.show()"
   ]
  }
 ],
 "metadata": {
  "kernelspec": {
   "display_name": "Python 3",
   "language": "python",
   "name": "python3"
  },
  "language_info": {
   "codemirror_mode": {
    "name": "ipython",
    "version": 3
   },
   "file_extension": ".py",
   "mimetype": "text/x-python",
   "name": "python",
   "nbconvert_exporter": "python",
   "pygments_lexer": "ipython3",
   "version": "3.7.5"
  }
 },
 "nbformat": 4,
 "nbformat_minor": 2
}
