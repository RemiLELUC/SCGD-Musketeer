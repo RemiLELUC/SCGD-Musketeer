{
 "cells": [
  {
   "cell_type": "markdown",
   "metadata": {},
   "source": [
    "# <center> ZO-optimization\n",
    "    \n",
    "### Author: Rémi LELUC\n",
    "### Date : April 2nd, 2021"
   ]
  },
  {
   "cell_type": "markdown",
   "metadata": {},
   "source": []
  },
  {
   "cell_type": "markdown",
   "metadata": {},
   "source": [
    "## Import libraries"
   ]
  },
  {
   "cell_type": "code",
   "execution_count": 3,
   "metadata": {},
   "outputs": [],
   "source": [
    "import numpy as np\n",
    "import pandas as pd\n",
    "import matplotlib.pyplot as plt\n",
    "from models import linearReg\n",
    "from simus import run_ols\n",
    "from sklearn.preprocessing import StandardScaler\n",
    "from sklearn.datasets import make_regression\n",
    "import warnings\n",
    "warnings.filterwarnings(\"ignore\")\n",
    "from tqdm.notebook import tqdm"
   ]
  },
  {
   "cell_type": "markdown",
   "metadata": {},
   "source": [
    "## Generate Dataset for Regression"
   ]
  },
  {
   "cell_type": "code",
   "execution_count": 2,
   "metadata": {},
   "outputs": [],
   "source": [
    "def simu_block(seed,n_samples,n_features,puiss,block_size,noise):\n",
    "    np.random.seed(seed)\n",
    "    X = np.zeros((n_samples,n_features))\n",
    "    for j in range(n_features//block_size):\n",
    "        X_j = np.random.normal(scale=(j+1)**(-puiss),size=(n_samples,block_size))\n",
    "        X[:,j*block_size:(j+1)*block_size] = X_j\n",
    "    # shuffle columns of X\n",
    "    idx = np.random.permutation(n_features)\n",
    "    X[:, :] = X[:, idx]\n",
    "    ground_truth = np.random.uniform(low=0,high=1,size=n_features)\n",
    "    y = X@ground_truth\n",
    "    if noise > 0.0:\n",
    "        y += np.random.normal(scale=noise, size=y.shape)\n",
    "    return X, y, ground_truth"
   ]
  },
  {
   "cell_type": "code",
   "execution_count": 4,
   "metadata": {},
   "outputs": [],
   "source": [
    "n_samples = 100\n",
    "n_features = 100\n",
    "# Simulate data for regression\n",
    "seed=0\n",
    "#puiss=5\n",
    "puiss=5\n",
    "noise=0.01\n",
    "block_size=1"
   ]
  },
  {
   "cell_type": "code",
   "execution_count": 4,
   "metadata": {},
   "outputs": [],
   "source": [
    "#X,y,coeff=simu_block(seed=seed,n_samples=n_samples,n_features=n_features,\n",
    "#                     puiss=puiss,block_size=block_size,noise=noise)"
   ]
  },
  {
   "cell_type": "code",
   "execution_count": 14,
   "metadata": {},
   "outputs": [],
   "source": [
    "n_samples = 100\n",
    "n_features = 100\n",
    "n_informative = 10\n",
    "# Simulate data for regression\n",
    "X,y=make_regression(n_samples=n_samples,\n",
    "                    n_features=n_features,\n",
    "                    n_informative=n_informative,\n",
    "                    random_state = 0)\n",
    "scaler = StandardScaler()\n",
    "X = scaler.fit_transform(X)\n",
    "y = scaler.fit_transform(y.reshape(-1,1)).ravel()"
   ]
  },
  {
   "cell_type": "markdown",
   "metadata": {},
   "source": [
    "## Compute true solution"
   ]
  },
  {
   "cell_type": "code",
   "execution_count": 15,
   "metadata": {},
   "outputs": [],
   "source": [
    "𝜆 = 1/n_samples          #regularization parameter\n",
    "G = ((X.T)@X)/n_samples  # Gram matrix\n",
    "A = G + 𝜆*np.eye(n_features)\n",
    "B = ((X.T)@y)/n_samples\n",
    "ridge = np.linalg.solve(a=A ,b=B)"
   ]
  },
  {
   "cell_type": "code",
   "execution_count": 16,
   "metadata": {},
   "outputs": [
    {
     "name": "stdout",
     "output_type": "stream",
     "text": [
      "data_opt: 0.00021563881155207913\n",
      "reg_opt : 0.005233446559557245\n",
      "0.005449085371109324\n"
     ]
    }
   ],
   "source": [
    "data_opt = np.sum((y-X.dot(ridge))**2)/(2*n_samples)\n",
    "reg_opt = (𝜆/2) * sum(ridge**2)\n",
    "loss_opt = data_opt + reg_opt\n",
    "print('data_opt:',data_opt)\n",
    "print('reg_opt :',reg_opt)\n",
    "print(loss_opt)"
   ]
  },
  {
   "cell_type": "code",
   "execution_count": 17,
   "metadata": {},
   "outputs": [],
   "source": [
    "ols = linearReg(X=X,y=y,𝜆=𝜆)"
   ]
  },
  {
   "cell_type": "code",
   "execution_count": 18,
   "metadata": {},
   "outputs": [
    {
     "data": {
      "text/plain": [
       "0.005449085371109324"
      ]
     },
     "execution_count": 18,
     "metadata": {},
     "output_type": "execute_result"
    }
   ],
   "source": [
    "ols.loss(w=ridge)"
   ]
  },
  {
   "cell_type": "code",
   "execution_count": 19,
   "metadata": {},
   "outputs": [
    {
     "data": {
      "text/plain": [
       "0.5000000000000001"
      ]
     },
     "execution_count": 19,
     "metadata": {},
     "output_type": "execute_result"
    }
   ],
   "source": [
    "ols.loss(w=np.zeros(n_features))"
   ]
  },
  {
   "cell_type": "markdown",
   "metadata": {},
   "source": [
    "## Parameter Simulations"
   ]
  },
  {
   "cell_type": "code",
   "execution_count": 34,
   "metadata": {},
   "outputs": [
    {
     "name": "stdout",
     "output_type": "stream",
     "text": [
      "T=   10\n",
      "𝜆=   0.01\n",
      "eta= 3\n"
     ]
    }
   ],
   "source": [
    "N = int(1e3)  # number of passes over coordinates          \n",
    "a = 1           # numerator of learning rate\n",
    "alpha_power = 1 # power in the learning rate\n",
    "gamma = 1       # numerator in gradient factor smoothing\n",
    "mu_power = 1    # power in the gradient factor smoothing\n",
    "verbose = False # to display information\n",
    "T = int(np.sqrt(n_features)) # size of exploration\n",
    "N_exp = 5     # number of experiments\n",
    "eta = 3\n",
    "print('T=  ',T)\n",
    "#𝜆 = 1/n_samples\n",
    "print('𝜆=  ',𝜆)\n",
    "print('eta=',eta)"
   ]
  },
  {
   "cell_type": "code",
   "execution_count": 21,
   "metadata": {},
   "outputs": [
    {
     "name": "stderr",
     "output_type": "stream",
     "text": [
      "100%|██████████| 5/5 [00:08<00:00,  1.68s/it]\n"
     ]
    }
   ],
   "source": [
    "_,_,loss_full = run_ols(X=X,y=y,𝜆=𝜆,method='full',N_exp=N_exp,N=N,\n",
    "                   T=None,gamma=gamma,mu_power=mu_power,a=a,alpha_power=alpha_power,\n",
    "                   eta=None,unbiased=None,verbose=False)"
   ]
  },
  {
   "cell_type": "code",
   "execution_count": 35,
   "metadata": {},
   "outputs": [
    {
     "name": "stderr",
     "output_type": "stream",
     "text": [
      "100%|██████████| 5/5 [01:13<00:00, 14.62s/it]\n"
     ]
    }
   ],
   "source": [
    "_,count_uni,loss_uni = run_ols(X=X,y=y,𝜆=𝜆,method='uni',N_exp=N_exp,N=N,\n",
    "                           T=None,gamma=gamma,mu_power=mu_power,a=a,alpha_power=alpha_power,\n",
    "                            eta=None,unbiased=None,verbose=False)"
   ]
  },
  {
   "cell_type": "code",
   "execution_count": 36,
   "metadata": {},
   "outputs": [
    {
     "name": "stderr",
     "output_type": "stream",
     "text": [
      "100%|██████████| 5/5 [01:59<00:00, 23.91s/it]\n"
     ]
    }
   ],
   "source": [
    "_,count_bia,loss_bia = run_ols(X=X,y=y,𝜆=𝜆,method='musketeer',N_exp=N_exp,N=N,\n",
    "                           T=T,gamma=gamma,mu_power=mu_power,a=a,alpha_power=alpha_power,\n",
    "                            eta=eta,unbiased=False,verbose=False)"
   ]
  },
  {
   "cell_type": "code",
   "execution_count": 37,
   "metadata": {},
   "outputs": [
    {
     "name": "stderr",
     "output_type": "stream",
     "text": [
      "100%|██████████| 5/5 [01:58<00:00, 23.75s/it]\n"
     ]
    }
   ],
   "source": [
    "_,count_unb,loss_unb= run_ols(X=X,y=y,𝜆=𝜆,method='musketeer',N_exp=N_exp,N=N,\n",
    "                           T=T,gamma=gamma,mu_power=mu_power,a=a,alpha_power=alpha_power,\n",
    "                           eta=eta,unbiased=True,verbose=False)"
   ]
  },
  {
   "cell_type": "code",
   "execution_count": 38,
   "metadata": {},
   "outputs": [],
   "source": [
    "mean_ful = np.mean(loss_full,axis=0)\n",
    "mean_uni = np.mean(loss_uni,axis=0)\n",
    "mean_bia = np.mean(loss_bia,axis=0)\n",
    "mean_unb = np.mean(loss_unb,axis=0)"
   ]
  },
  {
   "cell_type": "code",
   "execution_count": 39,
   "metadata": {},
   "outputs": [
    {
     "data": {
      "text/plain": [
       "array([1.        , 0.38357965, 0.18530097, ..., 0.00274238, 0.00274153,\n",
       "       0.00274069])"
      ]
     },
     "execution_count": 39,
     "metadata": {},
     "output_type": "execute_result"
    }
   ],
   "source": [
    "(mean_bia-loss_opt)/(mean_bia[0]-loss_opt)"
   ]
  },
  {
   "cell_type": "code",
   "execution_count": 41,
   "metadata": {},
   "outputs": [
    {
     "data": {
      "image/png": "[encoded data removed]",
      "text/plain": [
       "<Figure size 360x360 with 1 Axes>"
      ]
     },
     "metadata": {
      "needs_background": "light"
     },
     "output_type": "display_data"
    }
   ],
   "source": [
    "#plt.figure()\n",
    "fig,ax = plt.subplots(figsize=(5,5))\n",
    "plt.plot((mean_ful-loss_opt)/(mean_ful[0]-loss_opt),color='b',label='Full')\n",
    "plt.plot((mean_uni-loss_opt)/(mean_uni[0]-loss_opt),color='g',label='Uniform')\n",
    "plt.plot((mean_unb-loss_opt)/(mean_unb[0]-loss_opt),color='darkorange',label='Adaptive')\n",
    "plt.plot((mean_bia-loss_opt)/(mean_bia[0]-loss_opt),color='r',label='Musketeer')\n",
    "plt.yscale('log')\n",
    "plt.xscale('symlog')\n",
    "plt.ylabel(r'Optimaliy Gap $f(\\theta_t)-f(\\theta^\\star)$',fontsize=15)\n",
    "plt.xlabel('Passes over coordinates',fontsize=15)\n",
    "plt.xticks(fontsize=15)\n",
    "plt.yticks(fontsize=15)\n",
    "plt.legend(fontsize=15)\n",
    "#plt.legend(loc='lower left',fontsize=13)\n",
    "plt.legend(loc='upper right',fontsize=13)\n",
    "plt.grid(linestyle='--',which='both',alpha=0.5)\n",
    "#plt.title('Ridge Regression',fontsize=15)\n",
    "plt.tight_layout()\n",
    "ax.spines[\"right\"].set_visible(False)\n",
    "ax.spines[\"top\"].set_visible(False)\n",
    "#filename = 'ridge_puiss{}_N100.pdf'.format(puiss)\n",
    "#plt.savefig(filename,bbox_inches='tight',transparent=True, pad_inches=0)\n",
    "plt.show()"
   ]
  },
  {
   "cell_type": "code",
   "execution_count": null,
   "metadata": {},
   "outputs": [],
   "source": []
  }
 ],
 "metadata": {
  "kernelspec": {
   "display_name": "Python 3",
   "language": "python",
   "name": "python3"
  },
  "language_info": {
   "codemirror_mode": {
    "name": "ipython",
    "version": 3
   },
   "file_extension": ".py",
   "mimetype": "text/x-python",
   "name": "python",
   "nbconvert_exporter": "python",
   "pygments_lexer": "ipython3",
   "version": "3.7.5"
  }
 },
 "nbformat": 4,
 "nbformat_minor": 2
}
