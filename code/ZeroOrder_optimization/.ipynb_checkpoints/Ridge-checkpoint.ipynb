{
 "cells": [
  {
   "cell_type": "markdown",
   "metadata": {},
   "source": [
    "# <center> ZO-optimization\n",
    "    \n",
    "### Author: Rémi LELUC\n",
    "### Date : April 2nd, 2021"
   ]
  },
  {
   "cell_type": "markdown",
   "metadata": {},
   "source": []
  },
  {
   "cell_type": "markdown",
   "metadata": {},
   "source": [
    "## Import libraries"
   ]
  },
  {
   "cell_type": "code",
   "execution_count": 1,
   "metadata": {},
   "outputs": [],
   "source": [
    "import numpy as np\n",
    "import pandas as pd\n",
    "import matplotlib.pyplot as plt\n",
    "from models import linearReg\n",
    "from simus import run_ols\n",
    "import warnings\n",
    "warnings.filterwarnings(\"ignore\")\n",
    "from tqdm.notebook import tqdm"
   ]
  },
  {
   "cell_type": "markdown",
   "metadata": {},
   "source": [
    "## Generate Dataset for Regression"
   ]
  },
  {
   "cell_type": "code",
   "execution_count": 2,
   "metadata": {},
   "outputs": [],
   "source": [
    "def simu_block(seed,n_samples,n_features,puiss,block_size,noise):\n",
    "    np.random.seed(seed)\n",
    "    X = np.zeros((n_samples,n_features))\n",
    "    for j in range(n_features//block_size):\n",
    "        X_j = np.random.normal(scale=(j+1)**(-puiss),size=(n_samples,block_size))\n",
    "        X[:,j*block_size:(j+1)*block_size] = X_j\n",
    "    # shuffle columns of X\n",
    "    idx = np.random.permutation(n_features)\n",
    "    X[:, :] = X[:, idx]\n",
    "    ground_truth = np.random.uniform(low=-1,high=1,size=n_features)\n",
    "    y = X@ground_truth\n",
    "    if noise > 0.0:\n",
    "        y += np.random.normal(scale=noise, size=y.shape)\n",
    "    return X, y, ground_truth"
   ]
  },
  {
   "cell_type": "code",
   "execution_count": 3,
   "metadata": {},
   "outputs": [],
   "source": [
    "n_samples = 10000\n",
    "n_features = 250\n",
    "# Simulate data for regression\n",
    "seed=0\n",
    "#uiss=5\n",
    "puiss=5\n",
    "noise=0.01\n",
    "block_size=10"
   ]
  },
  {
   "cell_type": "code",
   "execution_count": 4,
   "metadata": {},
   "outputs": [],
   "source": [
    "X,y,coeff=simu_block(seed=seed,n_samples=n_samples,n_features=n_features,\n",
    "                     puiss=puiss,block_size=block_size,noise=noise)"
   ]
  },
  {
   "cell_type": "code",
   "execution_count": 5,
   "metadata": {},
   "outputs": [],
   "source": [
    "#n_samples = 1000\n",
    "#n_features = 100\n",
    "#n_informative = 10\n",
    "# Simulate data for regression\n",
    "#X,y=make_regression(n_samples=n_samples,\n",
    "#                    n_features=n_features,\n",
    "#                    n_informative=n_informative,\n",
    "#                    random_state = 0)\n",
    "#scaler = StandardScaler()\n",
    "#X = scaler.fit_transform(X)\n",
    "#y = scaler.fit_transform(y.reshape(-1,1)).ravel()"
   ]
  },
  {
   "cell_type": "markdown",
   "metadata": {},
   "source": [
    "# True datasets"
   ]
  },
  {
   "cell_type": "code",
   "execution_count": 6,
   "metadata": {},
   "outputs": [],
   "source": [
    "#X,y = load_boston(return_X_y=True)\n",
    "#X,y = load_diabetes(return_X_y=True)\n",
    "#scaler = StandardScaler()\n",
    "#X = scaler.fit_transform(X)\n",
    "#y = scaler.fit_transform(y.reshape(-1,1)).ravel()\n",
    "#n_samples,n_features = X.shape\n",
    "#print('n=',n_samples)\n",
    "#print('p=',n_features)"
   ]
  },
  {
   "cell_type": "markdown",
   "metadata": {},
   "source": [
    "## Compute true solution"
   ]
  },
  {
   "cell_type": "code",
   "execution_count": 7,
   "metadata": {},
   "outputs": [],
   "source": [
    "𝜆 = 1/n_samples          #regularization parameter\n",
    "G = ((X.T)@X)/n_samples  # Gram matrix\n",
    "A = G + 𝜆*np.eye(n_features)\n",
    "B = ((X.T)@y)/n_samples\n",
    "ridge = np.linalg.solve(a=A ,b=B)"
   ]
  },
  {
   "cell_type": "code",
   "execution_count": 8,
   "metadata": {},
   "outputs": [
    {
     "name": "stdout",
     "output_type": "stream",
     "text": [
      "data_opt: 9.065047463183436e-05\n",
      "reg_opt : 0.0004180958933290465\n",
      "0.0005087463679608809\n"
     ]
    }
   ],
   "source": [
    "data_opt = np.sum((y-X.dot(ridge))**2)/(2*n_samples)\n",
    "reg_opt = (𝜆/2) * sum(ridge**2)\n",
    "loss_opt = data_opt + reg_opt\n",
    "print('data_opt:',data_opt)\n",
    "print('reg_opt :',reg_opt)\n",
    "print(loss_opt)"
   ]
  },
  {
   "cell_type": "code",
   "execution_count": 9,
   "metadata": {},
   "outputs": [],
   "source": [
    "ols = linearReg(X=X,y=y,𝜆=𝜆)"
   ]
  },
  {
   "cell_type": "code",
   "execution_count": 10,
   "metadata": {},
   "outputs": [
    {
     "data": {
      "text/plain": [
       "0.0005087463679608809"
      ]
     },
     "execution_count": 10,
     "metadata": {},
     "output_type": "execute_result"
    }
   ],
   "source": [
    "ols.loss(batch=np.arange(n_samples),w=ridge)"
   ]
  },
  {
   "cell_type": "code",
   "execution_count": 11,
   "metadata": {},
   "outputs": [
    {
     "data": {
      "text/plain": [
       "1.9033092277692154"
      ]
     },
     "execution_count": 11,
     "metadata": {},
     "output_type": "execute_result"
    }
   ],
   "source": [
    "ols.loss(batch=np.arange(n_samples),w=np.zeros(n_features))"
   ]
  },
  {
   "cell_type": "markdown",
   "metadata": {},
   "source": [
    "## Parameter Simulations"
   ]
  },
  {
   "cell_type": "code",
   "execution_count": 12,
   "metadata": {},
   "outputs": [
    {
     "name": "stdout",
     "output_type": "stream",
     "text": [
      "T=   15\n",
      "𝜆=   0.0001\n",
      "T=   15\n",
      "𝜆=   0.0001\n",
      "eta= 0.5\n"
     ]
    }
   ],
   "source": [
    "N = int(200)  # number of passes over coordinates          \n",
    "a = 1          # numerator of learning rate\n",
    "t0 = 10\n",
    "alpha_power = 1 # power in the learning rate\n",
    "gamma = 1       # numerator in gradient factor smoothing\n",
    "mu_power = 1    # power in the gradient factor smoothing\n",
    "verbose = False # to display information\n",
    "N_exp = 20     # number of experiments\n",
    "fixed=False\n",
    "eta = 0.5\n",
    "#fixed = True\n",
    "batch_size = 1\n",
    "T = int(np.sqrt(n_features)) # size of exploration\n",
    "print('T=  ',T)\n",
    "print('𝜆=  ',𝜆)\n",
    "\n",
    "print('T=  ',T)\n",
    "print('𝜆=  ',𝜆)\n",
    "print('eta=',eta)"
   ]
  },
  {
   "cell_type": "code",
   "execution_count": 13,
   "metadata": {},
   "outputs": [
    {
     "name": "stderr",
     "output_type": "stream",
     "text": [
      "100%|██████████| 20/20 [02:06<00:00,  6.34s/it]\n"
     ]
    }
   ],
   "source": [
    "_,_,loss_full = run_ols(X=X,y=y,𝜆=𝜆,batch_size=batch_size,method='full',N_exp=N_exp,N=N,\n",
    "                        T=None,gamma=gamma,mu_power=mu_power,a=a,t0=t0,alpha_power=alpha_power,\n",
    "                        fixed=None,eta=None,importance=None,gains=None,verbose=False)\n",
    "l_ful = np.mean(loss_full,axis=0)\n",
    "std_ful = np.std(loss_full,axis=0)"
   ]
  },
  {
   "cell_type": "code",
   "execution_count": 14,
   "metadata": {},
   "outputs": [
    {
     "name": "stderr",
     "output_type": "stream",
     "text": [
      "100%|██████████| 20/20 [02:15<00:00,  6.79s/it]\n"
     ]
    }
   ],
   "source": [
    "_,_,loss_uni = run_ols(X=X,y=y,𝜆=𝜆,batch_size=batch_size,method='uni',N_exp=N_exp,N=N,\n",
    "                       T=None,gamma=gamma,mu_power=mu_power,a=a,t0=t0,alpha_power=alpha_power,\n",
    "                      fixed=None,eta=None,importance=None,gains=None,verbose=False)\n",
    "l_uni = np.mean(loss_uni,axis=0)\n",
    "std_uni = np.std(loss_uni,axis=0)"
   ]
  },
  {
   "cell_type": "markdown",
   "metadata": {},
   "source": [
    "### Musketeer biased"
   ]
  },
  {
   "cell_type": "code",
   "execution_count": 15,
   "metadata": {},
   "outputs": [
    {
     "name": "stderr",
     "output_type": "stream",
     "text": [
      "100%|██████████| 20/20 [02:53<00:00,  8.65s/it]\n",
      "100%|██████████| 20/20 [03:18<00:00,  9.93s/it]\n",
      "100%|██████████| 20/20 [03:04<00:00,  9.21s/it]\n"
     ]
    }
   ],
   "source": [
    "_,_,loss_mus_avg = run_ols(X=X,y=y,𝜆=𝜆,batch_size=batch_size,method='mus',N_exp=N_exp,N=N,\n",
    "                           T=T,gamma=gamma,mu_power=mu_power,a=a,t0=t0,alpha_power=alpha_power,\n",
    "                           fixed=fixed,eta=eta,importance=False,gains='avg',\n",
    "                           verbose=False)\n",
    "l_avg = np.mean(loss_mus_avg,axis=0)\n",
    "std_avg = np.std(loss_mus_avg,axis=0)\n",
    "\n",
    "_,_,loss_mus_abs = run_ols(X=X,y=y,𝜆=𝜆,batch_size=batch_size,method='mus',N_exp=N_exp,N=N,\n",
    "                           T=T,gamma=gamma,mu_power=mu_power,a=a,t0=t0,alpha_power=alpha_power,\n",
    "                           fixed=fixed,eta=eta,importance=False,gains='abs',\n",
    "                           verbose=False)\n",
    "l_abs = np.mean(loss_mus_abs,axis=0)\n",
    "std_abs = np.std(loss_mus_abs,axis=0)\n",
    "\n",
    "_,_,loss_mus_sqr = run_ols(X=X,y=y,𝜆=𝜆,batch_size=batch_size,method='mus',N_exp=N_exp,N=N,\n",
    "                           T=T,gamma=gamma,mu_power=mu_power,a=a,t0=t0,alpha_power=alpha_power,\n",
    "                           fixed=fixed,eta=eta,importance=False,gains='square',\n",
    "                           verbose=False)\n",
    "l_sqr = np.mean(loss_mus_sqr,axis=0)\n",
    "std_sqr = np.std(loss_mus_sqr,axis=0)"
   ]
  },
  {
   "cell_type": "markdown",
   "metadata": {},
   "source": [
    "### Nesterov-Spokoiny"
   ]
  },
  {
   "cell_type": "code",
   "execution_count": 16,
   "metadata": {},
   "outputs": [
    {
     "name": "stderr",
     "output_type": "stream",
     "text": [
      "100%|██████████| 20/20 [02:42<00:00,  8.13s/it]\n"
     ]
    }
   ],
   "source": [
    "_,_,loss_nes = run_ols(X=X,y=y,𝜆=𝜆,batch_size=batch_size,method='nes',N_exp=N_exp,N=N,\n",
    "                       T=T,gamma=gamma,mu_power=mu_power,a=a,t0=t0,alpha_power=alpha_power,\n",
    "                       fixed=fixed,eta=eta,importance=False,gains='avg',\n",
    "                       verbose=False)\n",
    "l_nes = np.mean(loss_nes,axis=0)\n",
    "std_nes = np.std(loss_nes,axis=0)"
   ]
  },
  {
   "cell_type": "code",
   "execution_count": 17,
   "metadata": {},
   "outputs": [],
   "source": [
    "np.save('results/loss_ful_ridge_puiss5.npy',loss_full)\n",
    "np.save('results/loss_uni_ridge_puiss5.npy',loss_uni)\n",
    "np.save('results/loss_avg_ridge_puiss5.npy',loss_mus_avg)\n",
    "np.save('results/loss_abs_ridge_puiss5.npy',loss_mus_abs)\n",
    "np.save('results/loss_sqr_ridge_puiss5.npy',loss_mus_sqr)\n",
    "np.save('results/loss_nes_ridge_puiss5.npy',loss_nes)"
   ]
  },
  {
   "cell_type": "markdown",
   "metadata": {},
   "source": [
    "## Plot results"
   ]
  },
  {
   "cell_type": "code",
   "execution_count": 20,
   "metadata": {},
   "outputs": [
    {
     "data": {
      "image/png": "[encoded data removed]",
      "text/plain": [
       "<Figure size 432x432 with 1 Axes>"
      ]
     },
     "metadata": {
      "needs_background": "light"
     },
     "output_type": "display_data"
    }
   ],
   "source": [
    "#plt.figure()\n",
    "fig,ax = plt.subplots(figsize=(6,6))\n",
    "plt.plot(l_ful-loss_opt,color='orange',linestyle='dashdot',label='full')\n",
    "plt.plot(l_uni-loss_opt,color='k',linestyle='--',label='uniform')\n",
    "plt.plot(l_sqr-loss_opt,color='red',marker='v',markevery=0.1,ms=4,label='mus_sqr')\n",
    "plt.plot(l_avg-loss_opt,color='b',marker='s',markevery=0.1,ms=4,label='mus_avg')\n",
    "plt.plot(l_abs-loss_opt,color='green',marker='o',markevery=0.1,ms=4,label='mus_abs')\n",
    "plt.plot(l_nes-loss_opt,color='purple',marker='p',markevery=0.1,ms=4,label='nesterov')\n",
    "\n",
    "# standard deviations\n",
    "plt.fill_between(np.arange(N+1),l_ful-loss_opt-std_ful/2,\n",
    "                 l_ful-loss_opt+std_ful/2,alpha=0.05,color='orange')\n",
    "plt.fill_between(np.arange(N+1),l_uni-loss_opt-std_uni/2,\n",
    "                 l_uni-loss_opt+std_uni/2,alpha=0.05,color='k')\n",
    "plt.fill_between(np.arange(N+1),l_sqr-loss_opt-std_sqr/2,\n",
    "                 l_sqr-loss_opt+std_sqr/2,alpha=0.05,color='red')\n",
    "plt.fill_between(np.arange(N+1),l_avg-loss_opt-std_avg/3,\n",
    "                 l_avg-loss_opt+std_avg/2,alpha=0.05,color='b')\n",
    "plt.fill_between(np.arange(N+1),l_abs-loss_opt-std_abs/2,\n",
    "                 l_abs-loss_opt+std_abs/2,alpha=0.05,color='green')\n",
    "plt.fill_between(np.arange(N+1),l_nes-loss_opt-std_nes/2,\n",
    "                 l_nes-loss_opt+std_nes/2,alpha=0.1,color='purple')\n",
    "\n",
    "plt.yscale('log')\n",
    "#plt.xscale('symlog')\n",
    "plt.ylabel(r'Optimality Gap $f(\\theta_t)-f(\\theta^\\star)$',fontsize=15)\n",
    "plt.xlabel('#Queries of loss f_i (x1e3)',fontsize=15)\n",
    "plt.xticks(ticks=[0,50,100,150,200],labels=['0','25','50','75','100'],fontsize=15)\n",
    "plt.yticks(fontsize=15)\n",
    "plt.legend(fontsize=15)\n",
    "#plt.legend(loc='lower left',fontsize=15)\n",
    "plt.legend(loc='upper right',fontsize=13)\n",
    "plt.grid(linestyle='--',which='both',alpha=0.5)\n",
    "#plt.title('Ridge Regression',fontsize=15)\n",
    "plt.tight_layout()\n",
    "ax.spines[\"right\"].set_visible(False)\n",
    "ax.spines[\"top\"].set_visible(False)\n",
    "#filename = 'ridge_zero_puiss{}.pdf'.format(puiss)\n",
    "#plt.savefig(filename,bbox_inches='tight',transparent=True, pad_inches=0)\n",
    "plt.show()"
   ]
  },
  {
   "cell_type": "code",
   "execution_count": null,
   "metadata": {},
   "outputs": [],
   "source": [
    "#plt.figure()\n",
    "fig,ax = plt.subplots(figsize=(6,6))\n",
    "plt.plot(l_ful-loss_opt,color='orange',linestyle='dashdot',label='full')\n",
    "plt.plot(l_uni-loss_opt,color='k',linestyle='--',label='uniform')\n",
    "plt.plot(l_sqr-loss_opt,color='red',marker='v',markevery=0.1,ms=4,label='mus_sqr')\n",
    "plt.plot(l_avg-loss_opt,color='b',marker='s',markevery=0.1,ms=4,label='mus_avg')\n",
    "plt.plot(l_abs-loss_opt,color='green',marker='o',markevery=0.1,ms=4,label='mus_abs')\n",
    "plt.plot(l_nes-loss_opt,color='purple',marker='p',markevery=0.1,ms=4,label='nesterov')\n",
    "\n",
    "# standard deviations\n",
    "plt.fill_between(np.arange(N+1),l_ful-loss_opt-std_ful/2,\n",
    "                 l_ful-loss_opt+std_ful/2,alpha=0.05,color='orange')\n",
    "plt.fill_between(np.arange(N+1),l_uni-loss_opt-std_uni/2,\n",
    "                 l_uni-loss_opt+std_uni/2,alpha=0.05,color='k')\n",
    "plt.fill_between(np.arange(N+1),l_sqr-loss_opt-std_sqr/2,\n",
    "                 l_sqr-loss_opt+std_sqr/2,alpha=0.05,color='red')\n",
    "plt.fill_between(np.arange(N+1),l_avg-loss_opt-std_avg/2,\n",
    "                 l_avg-loss_opt+std_avg/2,alpha=0.05,color='b')\n",
    "plt.fill_between(np.arange(N+1),l_abs-loss_opt-std_abs/2,\n",
    "                 l_abs-loss_opt+std_abs/2,alpha=0.05,color='green')\n",
    "plt.fill_between(np.arange(N+1),l_nes-loss_opt-std_nes/2,\n",
    "                 l_nes-loss_opt+std_nes/2,alpha=0.1,color='purple')\n",
    "\n",
    "plt.yscale('log')\n",
    "#plt.xscale('symlog')\n",
    "plt.ylabel(r'Optimality Gap $f(\\theta_t)-f(\\theta^\\star)$',fontsize=15)\n",
    "plt.xlabel('#Queries of loss f_i (x1e3)',fontsize=15)\n",
    "#plt.xticks(ticks=[0,10,20,30,40,50],labels=['0','5','10','15','20','25'],fontsize=15)\n",
    "plt.yticks(fontsize=15)\n",
    "plt.legend(fontsize=15)\n",
    "plt.legend(loc='lower left',fontsize=15)\n",
    "#plt.legend(loc='upper right',fontsize=13)\n",
    "plt.grid(linestyle='--',which='both',alpha=0.5)\n",
    "#plt.title('Ridge Regression',fontsize=15)\n",
    "plt.tight_layout()\n",
    "ax.spines[\"right\"].set_visible(False)\n",
    "ax.spines[\"top\"].set_visible(False)\n",
    "#filename = 'ridge_zo_puiss{}_sqrt.pdf'.format(puiss)\n",
    "#plt.savefig(filename,bbox_inches='tight',transparent=True, pad_inches=0)\n",
    "plt.show()"
   ]
  },
  {
   "cell_type": "markdown",
   "metadata": {},
   "source": [
    "### Musketeer -Importance Sampling (IS)"
   ]
  },
  {
   "cell_type": "code",
   "execution_count": null,
   "metadata": {},
   "outputs": [],
   "source": [
    "_,_,loss_mus_avg_is = run_ols(X=X,y=y,𝜆=𝜆,batch_size=batch_size,\n",
    "                       method='mus',N_exp=N_exp,N=N,\n",
    "                       T=T,gamma=gamma,mu_power=mu_power,a=a,alpha_power=alpha_power,\n",
    "                       fixed=fixed,eta=eta,importance=True,gains='avg',\n",
    "                       verbose=False)\n",
    "l_avg_is = np.mean(loss_mus_avg_is,axis=0)\n",
    "\n",
    "\n",
    "_,_,loss_mus_abs_is = run_ols(X=X,y=y,𝜆=𝜆,batch_size=batch_size,\n",
    "                       method='mus',N_exp=N_exp,N=N,\n",
    "                       T=T,gamma=gamma,mu_power=mu_power,a=a,alpha_power=alpha_power,\n",
    "                       fixed=fixed,eta=eta,importance=True,gains='abs',\n",
    "                       verbose=False)\n",
    "l_abs_is = np.mean(loss_mus_abs_is,axis=0)\n",
    "\n",
    "\n",
    "_,_,loss_mus_sqr_is = run_ols(X=X,y=y,𝜆=𝜆,batch_size=batch_size,\n",
    "                       method='mus',N_exp=N_exp,N=N,\n",
    "                       T=T,gamma=gamma,mu_power=mu_power,a=a,alpha_power=alpha_power,\n",
    "                       fixed=fixed,eta=eta,importance=True,gains='square',\n",
    "                       verbose=False)\n",
    "l_sqr_is = np.mean(loss_mus_sqr_is,axis=0)"
   ]
  },
  {
   "cell_type": "markdown",
   "metadata": {},
   "source": [
    "# Loss function"
   ]
  },
  {
   "cell_type": "code",
   "execution_count": null,
   "metadata": {},
   "outputs": [],
   "source": [
    "#plt.figure(figsize=(7,7))\n",
    "fig,(ax1,ax2) = plt.subplots(ncols=2,figsize=(13,6))\n",
    "\n",
    "ax1.plot(l_ful-loss_opt,color='orange',linestyle='dashdot',label='full')\n",
    "ax1.plot(l_uni-loss_opt,color='k',linestyle='--',label='uni')\n",
    "ax1.plot(l_avg-loss_opt,color='b',marker='s',markevery=0.1,ms=4,label='avg')\n",
    "ax1.plot(l_abs-loss_opt,color='green',marker='o',markevery=0.1,ms=4,label='abs')\n",
    "ax1.plot(l_sqr-loss_opt,color='red',marker='v',markevery=0.1,ms=4,label='sqr')\n",
    "\n",
    "ax1.set_yscale('log')\n",
    "#ax1.set_xscale('symlog')\n",
    "\n",
    "ax1.set_ylabel(r'Gap $f(\\theta_t)-f(\\theta^\\star)$',fontsize=15)\n",
    "ax1.set_xlabel('#Queries of objective f (x1e3)',fontsize=15)\n",
    "ax1.set_xticks(ticks=[0,10,20,30,40,50])\n",
    "ax1.set_xticklabels(labels=['0','5','10','15','20','25'],fontsize=15)\n",
    "ax1.tick_params(axis='both',labelsize=15)\n",
    "\n",
    "ax1.legend(loc='upper right',fontsize=13)\n",
    "ax1.grid(linestyle='--',which='both',alpha=0.5)\n",
    "ax1.spines[\"right\"].set_visible(False)\n",
    "ax1.spines[\"top\"].set_visible(False)\n",
    "#filename = 'ridge_puiss{}_N100.pdf'.format(puiss)\n",
    "#plt.savefig(filename,bbox_inches='tight',transparent=True, pad_inches=0)\n",
    "\n",
    "ax2.plot(l_ful-loss_opt,color='orange',linestyle='dashdot',label='full')\n",
    "ax2.plot(l_uni-loss_opt,color='k',linestyle='--',label='uni')\n",
    "\n",
    "ax2.plot(l_avg_is-loss_opt,color='b',marker='s',markevery=0.1,ms=4,linestyle='-',label='avg-is')\n",
    "ax2.plot(l_abs_is-loss_opt,color='green',marker='o',markevery=0.1,ms=4,linestyle='-',label='abs-is')\n",
    "ax2.plot(l_sqr_is-loss_opt,color='red',marker='v',markevery=0.1,ms=4,linestyle='-',label='sqr-is')\n",
    "ax2.set_yscale('log')\n",
    "\n",
    "ax2.set_xlabel('#Queries of objective f',fontsize=15)\n",
    "ax2.set_xticks(ticks=[0,10,20,30,40,50])\n",
    "ax2.set_xticklabels(labels=['0','5','10','15','20','25'],fontsize=15)\n",
    "ax2.tick_params(axis='both',labelsize=15)\n",
    "\n",
    "ax2.legend(loc='upper right',fontsize=13)\n",
    "ax2.grid(linestyle='--',which='both',alpha=0.5)\n",
    "\n",
    "ax2.spines[\"right\"].set_visible(False)\n",
    "ax2.spines[\"top\"].set_visible(False)\n",
    "\n",
    "\n",
    "\n",
    "plt.show()"
   ]
  },
  {
   "cell_type": "code",
   "execution_count": null,
   "metadata": {
    "scrolled": false
   },
   "outputs": [],
   "source": [
    "#plt.figure(figsize=(7,7))\n",
    "fig,(ax1,ax2) = plt.subplots(ncols=2,figsize=(13,6))\n",
    "\n",
    "ax1.plot(l_ful-loss_opt,color='orange',linestyle='dashdot',label='full')\n",
    "ax1.plot(l_uni-loss_opt,color='k',linestyle='--',label='uni')\n",
    "ax1.plot(l_avg-loss_opt,color='b',marker='s',markevery=0.1,ms=4,label='avg')\n",
    "ax1.plot(l_abs-loss_opt,color='green',marker='o',markevery=0.1,ms=4,label='abs')\n",
    "ax1.plot(l_sqr-loss_opt,color='red',marker='v',markevery=0.1,ms=4,label='sqr')\n",
    "\n",
    "ax1.set_yscale('log')\n",
    "#ax1.set_xscale('symlog')\n",
    "\n",
    "ax1.set_ylabel(r'Gap $f(\\theta_t)-f(\\theta^\\star)$',fontsize=15)\n",
    "ax1.set_xlabel('#Queries of objective f',fontsize=15)\n",
    "ax1.set_xticks(ticks=[0,50,100,150,200])\n",
    "ax1.set_xticklabels(labels=['0','100','200','200','400'],fontsize=15)\n",
    "ax1.tick_params(axis='both',labelsize=15)\n",
    "\n",
    "ax1.legend(loc='upper right',fontsize=13)\n",
    "ax1.grid(linestyle='--',which='both',alpha=0.5)\n",
    "ax1.spines[\"right\"].set_visible(False)\n",
    "ax1.spines[\"top\"].set_visible(False)\n",
    "#filename = 'ridge_puiss{}_N100.pdf'.format(puiss)\n",
    "#plt.savefig(filename,bbox_inches='tight',transparent=True, pad_inches=0)\n",
    "\n",
    "ax2.plot(l_ful-loss_opt,color='orange',linestyle='dashdot',label='full')\n",
    "ax2.plot(l_uni-loss_opt,color='k',linestyle='--',label='uni')\n",
    "\n",
    "ax2.plot(l_avg_is-loss_opt,color='b',marker='s',markevery=0.1,ms=4,linestyle='-',label='avg-is')\n",
    "ax2.plot(l_abs_is-loss_opt,color='green',marker='o',markevery=0.1,ms=4,linestyle='-',label='abs-is')\n",
    "ax2.plot(l_sqr_is-loss_opt,color='red',marker='v',markevery=0.1,ms=4,linestyle='-',label='sqr-is')\n",
    "ax2.set_yscale('log')\n",
    "\n",
    "ax2.set_xlabel('#Queries of objective f',fontsize=15)\n",
    "ax2.set_xticks(ticks=[0,50,100,150,200])\n",
    "ax2.set_xticklabels(labels=['0','100','200','200','400'],fontsize=15)\n",
    "ax2.tick_params(axis='both',labelsize=15)\n",
    "\n",
    "ax2.legend(loc='upper right',fontsize=13)\n",
    "ax2.grid(linestyle='--',which='both',alpha=0.5)\n",
    "\n",
    "ax2.spines[\"right\"].set_visible(False)\n",
    "ax2.spines[\"top\"].set_visible(False)\n",
    "\n",
    "\n",
    "\n",
    "plt.show()"
   ]
  },
  {
   "cell_type": "markdown",
   "metadata": {},
   "source": [
    "## Regret Analysis"
   ]
  },
  {
   "cell_type": "code",
   "execution_count": null,
   "metadata": {},
   "outputs": [],
   "source": [
    "reg_ful = np.cumsum(l_ful)/np.arange(1,N+2) - loss_opt\n",
    "reg_uni = np.cumsum(l_uni)/np.arange(1,N+2) - loss_opt\n",
    "\n",
    "reg_avg = np.cumsum(l_avg)/np.arange(1,N+2) - loss_opt\n",
    "reg_abs = np.cumsum(l_abs)/np.arange(1,N+2) - loss_opt\n",
    "reg_sqr = np.cumsum(l_sqr)/np.arange(1,N+2) - loss_opt\n",
    "\n",
    "reg_avg_is = np.cumsum(l_avg_is)/np.arange(1,N+2) - loss_opt\n",
    "reg_abs_is = np.cumsum(l_abs_is)/np.arange(1,N+2) - loss_opt\n",
    "reg_sqr_is = np.cumsum(l_sqr_is)/np.arange(1,N+2) - loss_opt"
   ]
  },
  {
   "cell_type": "code",
   "execution_count": null,
   "metadata": {},
   "outputs": [],
   "source": [
    "#plt.figure(figsize=(7,7))\n",
    "fig,(ax1,ax2) = plt.subplots(ncols=2,figsize=(13,6))\n",
    "\n",
    "ax1.plot(reg_ful,color='orange',linestyle='dashdot',label='full')\n",
    "ax1.plot(reg_uni,color='k',linestyle='--',label='uni')\n",
    "ax1.plot(reg_avg,color='b',marker='s',markevery=0.1,ms=4,label='avg')\n",
    "ax1.plot(reg_abs,color='green',marker='o',markevery=0.1,ms=4,label='abs')\n",
    "ax1.plot(reg_sqr,color='red',marker='v',markevery=0.1,ms=4,label='sqr')\n",
    "\n",
    "ax1.set_yscale('log')\n",
    "#ax1.set_xscale('symlog')\n",
    "\n",
    "ax1.set_ylabel(r'Regret ',fontsize=15)\n",
    "ax1.set_xlabel('#Queries of objective f',fontsize=15)\n",
    "ax1.set_xticks(ticks=[0,50,100,150,200])\n",
    "ax1.set_xticklabels(labels=['0','100','200','200','400'],fontsize=15)\n",
    "ax1.tick_params(axis='both',labelsize=15)\n",
    "\n",
    "ax1.legend(loc='upper right',fontsize=13)\n",
    "ax1.grid(linestyle='--',which='both',alpha=0.5)\n",
    "ax1.spines[\"right\"].set_visible(False)\n",
    "ax1.spines[\"top\"].set_visible(False)\n",
    "#filename = 'ridge_puiss{}_N100.pdf'.format(puiss)\n",
    "#plt.savefig(filename,bbox_inches='tight',transparent=True, pad_inches=0)\n",
    "\n",
    "ax2.plot(l_ful-loss_opt,color='orange',linestyle='dashdot',label='full')\n",
    "ax2.plot(l_uni-loss_opt,color='k',linestyle='--',label='uni')\n",
    "\n",
    "ax2.plot(reg_avg_is,color='b',marker='s',markevery=0.1,ms=4,linestyle='-',label='avg-is')\n",
    "ax2.plot(reg_abs_is,color='green',marker='o',markevery=0.1,ms=4,linestyle='-',label='abs-is')\n",
    "ax2.plot(reg_sqr_is,color='red',marker='v',markevery=0.1,ms=4,linestyle='-',label='sqr-is')\n",
    "ax2.set_yscale('log')\n",
    "\n",
    "ax2.set_xlabel('#Queries of objective f',fontsize=15)\n",
    "ax2.set_xticks(ticks=[0,50,100,150,200])\n",
    "ax2.set_xticklabels(labels=['0','100','200','200','400'],fontsize=15)\n",
    "ax2.tick_params(axis='both',labelsize=15)\n",
    "\n",
    "ax2.legend(loc='upper right',fontsize=13)\n",
    "ax2.grid(linestyle='--',which='both',alpha=0.5)\n",
    "\n",
    "ax2.spines[\"right\"].set_visible(False)\n",
    "ax2.spines[\"top\"].set_visible(False)\n",
    "\n",
    "\n",
    "\n",
    "plt.show()"
   ]
  },
  {
   "cell_type": "markdown",
   "metadata": {},
   "source": [
    "# Old"
   ]
  },
  {
   "cell_type": "code",
   "execution_count": null,
   "metadata": {},
   "outputs": [],
   "source": [
    "#plt.figure()\n",
    "fig,ax = plt.subplots(figsize=(6,6))\n",
    "plt.plot(l_ful-loss_opt,color='orange',linestyle='dashdot',label='full')\n",
    "plt.plot(l_uni-loss_opt,color='k',linestyle='-',label='uni')\n",
    "plt.plot(l_avg-loss_opt,color='b',marker='s',markevery=0.1,ms=4,label='avg')\n",
    "#plt.plot(l_avg_is-loss_opt,color='b',marker='s',markevery=0.1,ms=4,linestyle='--',label='avg-is')\n",
    "plt.plot(l_abs-loss_opt,color='green',marker='o',markevery=0.1,ms=4,label='abs')\n",
    "#plt.plot(l_abs_is-loss_opt,color='green',marker='o',markevery=0.1,ms=4,linestyle='--',label='abs-is')\n",
    "plt.plot(l_sqr-loss_opt,color='red',marker='v',markevery=0.1,ms=4,label='sqr')\n",
    "#plt.plot(l_sqr_is-loss_opt,color='red',marker='v',markevery=0.1,ms=4,linestyle='--',label='sqr-is')\n",
    "plt.yscale('log')\n",
    "#plt.xscale('symlog')\n",
    "plt.ylabel(r'Gap $f(\\theta_t)-f(\\theta^\\star)$',fontsize=15)\n",
    "plt.xlabel('#Queries of objective f (x1e3)',fontsize=15)\n",
    "plt.xticks(ticks=[0,10,20,30,40,50],labels=['0','5','10','15','20','25'],fontsize=15)\n",
    "plt.yticks(fontsize=15)\n",
    "plt.legend(fontsize=15)\n",
    "plt.legend(loc='lower left',fontsize=15)\n",
    "#plt.legend(loc='upper right',fontsize=13)\n",
    "plt.grid(linestyle='--',which='both',alpha=0.5)\n",
    "#plt.title('Ridge Regression',fontsize=15)\n",
    "plt.tight_layout()\n",
    "ax.spines[\"right\"].set_visible(False)\n",
    "ax.spines[\"top\"].set_visible(False)\n",
    "#filename = 'ridge_zo_puiss{}.pdf'.format(puiss)\n",
    "#plt.savefig(filename,bbox_inches='tight',transparent=True, pad_inches=0)\n",
    "plt.show()"
   ]
  },
  {
   "cell_type": "markdown",
   "metadata": {},
   "source": [
    "# Optimality Gap"
   ]
  },
  {
   "cell_type": "code",
   "execution_count": null,
   "metadata": {},
   "outputs": [],
   "source": [
    "#plt.figure()\n",
    "fig,ax = plt.subplots(figsize=(5,5))\n",
    "plt.plot(mean_ful-loss_opt,color='b',label='Full')\n",
    "plt.plot(mean_uni-loss_opt,color='g',label='Uniform')\n",
    "plt.plot(mean_unb-loss_opt,color='darkorange',label='Adaptive')\n",
    "plt.plot(mean_bia-loss_opt,color='r',label='Musketeer')\n",
    "plt.yscale('log')\n",
    "plt.xscale('symlog')\n",
    "plt.ylabel(r'Optimaliy Gap $f(\\theta_t)-f(\\theta^\\star)$',fontsize=15)\n",
    "plt.xlabel('Passes over coordinates',fontsize=15)\n",
    "plt.xticks(fontsize=15)\n",
    "plt.yticks(fontsize=15)\n",
    "plt.legend(fontsize=15)\n",
    "#plt.legend(loc='lower left',fontsize=13)\n",
    "plt.legend(loc='upper right',fontsize=13)\n",
    "plt.grid(linestyle='--',which='both',alpha=0.5)\n",
    "#plt.title('Ridge Regression',fontsize=15)\n",
    "plt.tight_layout()\n",
    "ax.spines[\"right\"].set_visible(False)\n",
    "ax.spines[\"top\"].set_visible(False)\n",
    "#filename = 'ridge_puiss{}_N100.pdf'.format(puiss)\n",
    "#plt.savefig(filename,bbox_inches='tight',transparent=True, pad_inches=0)\n",
    "plt.show()"
   ]
  },
  {
   "cell_type": "markdown",
   "metadata": {},
   "source": [
    "# Cumulative Regret"
   ]
  },
  {
   "cell_type": "code",
   "execution_count": null,
   "metadata": {},
   "outputs": [],
   "source": [
    "#plt.figure()\n",
    "fig,ax = plt.subplots(figsize=(6,5))\n",
    "plt.plot(reg_ful,color='b',label='Full')\n",
    "plt.plot(reg_uni,color='g',label='Uniform')\n",
    "plt.plot(reg_unb,color='darkorange',label='Adaptive')\n",
    "plt.plot(reg_bia,color='r',label='Musketeer')\n",
    "#plt.yscale('log')\n",
    "plt.xscale('symlog')\n",
    "plt.ylabel(r'Cumulative Regret',fontsize=15)\n",
    "plt.xlabel('Passes over coordinates',fontsize=15)\n",
    "plt.xticks(fontsize=15)\n",
    "plt.yticks(fontsize=15)\n",
    "plt.legend(fontsize=15)\n",
    "#plt.legend(loc='lower left',fontsize=13)\n",
    "plt.legend(loc='upper right',fontsize=13)\n",
    "plt.grid(linestyle='--',which='both',alpha=0.5)\n",
    "#plt.title('Ridge Regression',fontsize=15)\n",
    "plt.tight_layout()\n",
    "ax.spines[\"right\"].set_visible(False)\n",
    "ax.spines[\"top\"].set_visible(False)\n",
    "#filename = 'ridge_puiss{}_N100.pdf'.format(puiss)\n",
    "#plt.savefig(filename,bbox_inches='tight',transparent=True, pad_inches=0)\n",
    "plt.show()"
   ]
  },
  {
   "cell_type": "code",
   "execution_count": null,
   "metadata": {},
   "outputs": [],
   "source": [
    "#plt.figure()\n",
    "fig,ax = plt.subplots(figsize=(10,5))\n",
    "#plt.plot(reg_ful-loss_opt,color='b',label='Full')\n",
    "plt.plot(reg_uni-loss_opt,color='g',label='Uniform')\n",
    "plt.plot(reg_unb-loss_opt,color='darkorange',label='Adaptive')\n",
    "plt.plot(reg_bia-loss_opt,color='r',label='Musketeer')\n",
    "#plt.yscale('log')\n",
    "plt.xscale('symlog')\n",
    "plt.ylabel(r'Cumulative Regret',fontsize=15)\n",
    "plt.xlabel('Passes over coordinates',fontsize=15)\n",
    "plt.xticks(fontsize=15)\n",
    "plt.yticks(fontsize=15)\n",
    "plt.legend(fontsize=15)\n",
    "#plt.legend(loc='lower left',fontsize=13)\n",
    "plt.legend(loc='upper right',fontsize=13)\n",
    "plt.grid(linestyle='--',which='both',alpha=0.5)\n",
    "#plt.title('Ridge Regression',fontsize=15)\n",
    "plt.tight_layout()\n",
    "ax.spines[\"right\"].set_visible(False)\n",
    "ax.spines[\"top\"].set_visible(False)\n",
    "#filename = 'ridge_puiss{}_N100.pdf'.format(puiss)\n",
    "#plt.savefig(filename,bbox_inches='tight',transparent=True, pad_inches=0)\n",
    "plt.show()"
   ]
  },
  {
   "cell_type": "code",
   "execution_count": null,
   "metadata": {},
   "outputs": [],
   "source": []
  }
 ],
 "metadata": {
  "kernelspec": {
   "display_name": "Python 3",
   "language": "python",
   "name": "python3"
  },
  "language_info": {
   "codemirror_mode": {
    "name": "ipython",
    "version": 3
   },
   "file_extension": ".py",
   "mimetype": "text/x-python",
   "name": "python",
   "nbconvert_exporter": "python",
   "pygments_lexer": "ipython3",
   "version": "3.7.5"
  }
 },
 "nbformat": 4,
 "nbformat_minor": 2
}
