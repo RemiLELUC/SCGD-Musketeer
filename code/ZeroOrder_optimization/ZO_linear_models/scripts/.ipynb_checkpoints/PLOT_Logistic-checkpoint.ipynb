{
 "cells": [
  {
   "cell_type": "markdown",
   "metadata": {},
   "source": [
    "# <center> Graphs for ZO-Logistic Regression\n",
    "    \n",
    "This notebook loads the results for Logistic regression and plot/save the different graphs."
   ]
  },
  {
   "cell_type": "markdown",
   "metadata": {},
   "source": [
    "# Import Libraries"
   ]
  },
  {
   "cell_type": "code",
   "execution_count": null,
   "metadata": {},
   "outputs": [],
   "source": [
    "import sys\n",
    "sys.path.append('../results')\n",
    "import numpy as np\n",
    "import pandas as pd\n",
    "import matplotlib.pyplot as plt"
   ]
  },
  {
   "cell_type": "code",
   "execution_count": null,
   "metadata": {},
   "outputs": [],
   "source": [
    "path = '../results/results_appendix/results_log/'"
   ]
  },
  {
   "cell_type": "markdown",
   "metadata": {},
   "source": [
    "# Load results"
   ]
  },
  {
   "cell_type": "code",
   "execution_count": null,
   "metadata": {},
   "outputs": [],
   "source": [
    "def load_log(n,p):\n",
    "    loss_ful = np.load(path+'loss_ful_log_n{}_p{}.npy'.format(n,p))\n",
    "    loss_uni = np.load(path+'loss_uni_log_n{}_p{}.npy'.format(n,p))\n",
    "    loss_nes = np.load(path+'loss_nes_log_n{}_p{}.npy'.format(n,p))\n",
    "    loss_avg = np.load(path+'loss_avg_log_n{}_p{}.npy'.format(n,p))\n",
    "    loss_sqr = np.load(path+'loss_sqr_log_n{}_p{}.npy'.format(n,p))\n",
    "    loss_abs = np.load(path+'loss_abs_log_n{}_p{}.npy'.format(n,p))\n",
    "    loss_avg_is = np.load(path+'loss_avg_is_log_n{}_p{}.npy'.format(n,p))\n",
    "    loss_sqr_is = np.load(path+'loss_sqr_is_log_n{}_p{}.npy'.format(n,p))\n",
    "    loss_abs_is = np.load(path+'loss_abs_is_log_n{}_p{}.npy'.format(n,p))\n",
    "    return loss_ful,loss_uni,loss_nes,loss_avg,loss_sqr,loss_abs,loss_avg_is,loss_sqr_is,loss_abs_is"
   ]
  },
  {
   "cell_type": "markdown",
   "metadata": {},
   "source": [
    "# Plot/Save everything (Appendix E)"
   ]
  },
  {
   "cell_type": "code",
   "execution_count": null,
   "metadata": {},
   "outputs": [],
   "source": [
    "for n in [1000,2000,5000]:\n",
    "    for p in [20,50,100,200]:\n",
    "        loss_ful,loss_uni,loss_nes,loss_avg,loss_sqr,loss_abs,loss_avg_is,loss_sqr_is,loss_abs_is = load_log(n=n,p=p)\n",
    "        l_ful = np.mean(loss_ful,axis=0)\n",
    "        #std_ful = np.std(loss_ful,axis=0)\n",
    "\n",
    "        l_uni = np.mean(loss_uni,axis=0)\n",
    "        #std_uni = np.std(loss_uni,axis=0)\n",
    "\n",
    "        l_nes = np.mean(loss_nes,axis=0)\n",
    "        #std_nes = np.std(loss_nes,axis=0)\n",
    "\n",
    "        l_avg = np.mean(loss_avg,axis=0)\n",
    "        #std_avg = np.std(loss_avg,axis=0)\n",
    "\n",
    "        l_sqr = np.mean(loss_sqr,axis=0)\n",
    "        #std_sqr = np.std(loss_sqr,axis=0)\n",
    "\n",
    "        l_abs = np.mean(loss_abs,axis=0)\n",
    "        #std_abs = np.std(loss_abs,axis=0)\n",
    "        l_avg_is = np.mean(loss_avg_is,axis=0)\n",
    "        #std_avg_is = np.std(loss_avg_is,axis=0)\n",
    "\n",
    "        l_sqr_is = np.mean(loss_sqr_is,axis=0)\n",
    "        #std_sqr_is = np.std(loss_sqr_is,axis=0)\n",
    "\n",
    "        l_abs_is = np.mean(loss_abs_is,axis=0)\n",
    "\n",
    "        N = 200\n",
    "        tab = np.arange(N+1)\n",
    "        #plt.figure()\n",
    "        fig,ax = plt.subplots(figsize=(5,5))\n",
    "        plt.plot(l_ful,color='orange',linestyle='dashdot',label='full')\n",
    "        plt.plot(l_uni,color='k',linestyle='--',label='uniform')\n",
    "        plt.plot(l_nes,color='purple',marker='p',markevery=0.1,ms=4,label='nesterov')\n",
    "        plt.plot(l_sqr,color='red',marker='v',markevery=0.1,ms=4,label='mus_sqr')\n",
    "        plt.plot(l_avg,color='b',marker='s',markevery=0.1,ms=4,label='mus_avg')\n",
    "        plt.plot(l_abs,color='green',marker='o',markevery=0.1,ms=4,label='mus_abs')\n",
    "        #plt.plot(l_sqr_is,color='red',linestyle='dashdot',marker='v',markevery=0.1,ms=4,label='mus_sqr_is')\n",
    "        #plt.plot(l_avg_is,color='b',linestyle='dashdot',marker='s',markevery=0.1,ms=4,label='mus_avg_is')\n",
    "        #plt.plot(l_abs_is,color='green',linestyle='dashdot',marker='o',markevery=0.1,ms=4,label='mus_abs_is')\n",
    "\n",
    "        # standard deviations\n",
    "        #plt.fill_between(tab,l_ful-std_ful/2,\n",
    "        #                 l_ful+std_ful/2,alpha=0.05,color='orange')\n",
    "        #plt.fill_between(tab,l_uni-std_uni/2,\n",
    "        #                 l_uni+std_uni/2,alpha=0.05,color='k')\n",
    "        #plt.fill_between(tab,l_sqr-std_sqr/3,\n",
    "        #                 l_sqr+std_sqr/2,alpha=0.05,color='red')\n",
    "        #plt.fill_between(tab,l_avg-std_avg/3,\n",
    "        #                 l_avg+std_avg/2,alpha=0.05,color='b')\n",
    "        #plt.fill_between(tab,l_abs-std_abs/3,\n",
    "        #                 l_abs+std_abs/2,alpha=0.05,color='green')\n",
    "        #plt.fill_between(tab,l_nes-std_nes/2,\n",
    "        #                 l_nes+std_nes/2,alpha=0.1,color='purple')\n",
    "\n",
    "        plt.yscale('log')\n",
    "        #plt.xscale('symlog')\n",
    "        plt.ylabel(r'Optimality Gap $f(\\theta_t)-f(\\theta^\\star)$',fontsize=15)\n",
    "        plt.xlabel('#Queries of loss f_i',fontsize=15)\n",
    "        labels=2*p*np.array([0,50,100,150,200])\n",
    "        labs = [str(x) for x in labels]\n",
    "        plt.xticks(ticks=[0,50,100,150,200],labels=labs,fontsize=15)\n",
    "        plt.yticks(fontsize=15)\n",
    "        plt.legend(fontsize=15)\n",
    "        #plt.legend(loc='lower left',fontsize=15)\n",
    "        plt.legend(loc='upper right',fontsize=13)\n",
    "        plt.grid(linestyle='--',which='both',alpha=0.5)\n",
    "        #plt.title('Ridge Regression',fontsize=15)\n",
    "        plt.tight_layout()\n",
    "        ax.spines[\"right\"].set_visible(False)\n",
    "        ax.spines[\"top\"].set_visible(False)\n",
    "        #filename = 'zo_log_is_n{}_p{}.pdf'.format(n,p)\n",
    "        #plt.savefig(filename,bbox_inches='tight',transparent=True, pad_inches=0)\n",
    "        plt.show()"
   ]
  },
  {
   "cell_type": "code",
   "execution_count": null,
   "metadata": {},
   "outputs": [],
   "source": []
  }
 ],
 "metadata": {
  "kernelspec": {
   "display_name": "Python 3",
   "language": "python",
   "name": "python3"
  },
  "language_info": {
   "codemirror_mode": {
    "name": "ipython",
    "version": 3
   },
   "file_extension": ".py",
   "mimetype": "text/x-python",
   "name": "python",
   "nbconvert_exporter": "python",
   "pygments_lexer": "ipython3",
   "version": "3.7.5"
  }
 },
 "nbformat": 4,
 "nbformat_minor": 2
}
