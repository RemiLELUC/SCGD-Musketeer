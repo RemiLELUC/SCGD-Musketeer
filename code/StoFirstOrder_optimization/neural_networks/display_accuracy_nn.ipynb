{
 "cells": [
  {
   "cell_type": "markdown",
   "metadata": {},
   "source": [
    "# <center> Display Test accuracy for Mnist,Fashion,Cifar10\n",
    "    \n",
    "This notebook loads the different results with SGD and Musketeer then display the associated test accuracy."
   ]
  },
  {
   "cell_type": "markdown",
   "metadata": {},
   "source": [
    "### Import libraries"
   ]
  },
  {
   "cell_type": "code",
   "execution_count": 1,
   "metadata": {},
   "outputs": [],
   "source": [
    "import numpy as np"
   ]
  },
  {
   "cell_type": "markdown",
   "metadata": {},
   "source": [
    "### Tool function to load results and diaply accuracy"
   ]
  },
  {
   "cell_type": "code",
   "execution_count": 6,
   "metadata": {},
   "outputs": [],
   "source": [
    "def get_acc(name='mnist'):\n",
    "    acc_sgd = np.load('results/'+name+'/acc_'+name+'_sgd.npy')\n",
    "    acc_e01 = np.load('results/'+name+'/acc_'+name+'_e01.npy')\n",
    "    acc_e02 = np.load('results/'+name+'/acc_'+name+'_e02.npy')\n",
    "    acc_e10 = np.load('results/'+name+'/acc_'+name+'_e10.npy')\n",
    "    print('MEAN ACCURACY:')\n",
    "    print('SGD:',np.mean(acc_sgd,axis=0))\n",
    "    print('SGD:',np.std(acc_sgd,axis=0))\n",
    "    print('e01:',np.mean(acc_e01,axis=0))\n",
    "    print('e01:',np.std(acc_e01,axis=0))\n",
    "    print('e02:',np.mean(acc_e02,axis=0))\n",
    "    print('e02:',np.std(acc_e02,axis=0))\n",
    "    print('e10:',np.mean(acc_e10,axis=0))\n",
    "    print('e10:',np.std(acc_e10,axis=0))\n",
    "    return None"
   ]
  },
  {
   "cell_type": "markdown",
   "metadata": {},
   "source": [
    "### MNIST"
   ]
  },
  {
   "cell_type": "code",
   "execution_count": 7,
   "metadata": {},
   "outputs": [
    {
     "name": "stdout",
     "output_type": "stream",
     "text": [
      "MEAN ACCURACY:\n",
      "SGD: [0.5956  0.701   0.80315 0.8468 ]\n",
      "SGD: [0.03094489 0.01330045 0.01507111 0.00996082]\n",
      "e01: [0.58081 0.76422 0.84152 0.86681]\n",
      "e01: [0.02270636 0.01426379 0.00899587 0.00455334]\n",
      "e02: [0.66842 0.83308 0.8695  0.88866]\n",
      "e02: [0.01418568 0.00996251 0.00451863 0.00377524]\n",
      "e10: [0.82993 0.88348 0.90305 0.91319]\n",
      "e10: [0.01046566 0.00442805 0.00276487 0.00183927]\n"
     ]
    }
   ],
   "source": [
    "get_acc(name='mnist')"
   ]
  },
  {
   "cell_type": "markdown",
   "metadata": {},
   "source": [
    "### FASHION"
   ]
  },
  {
   "cell_type": "code",
   "execution_count": 8,
   "metadata": {},
   "outputs": [
    {
     "name": "stdout",
     "output_type": "stream",
     "text": [
      "MEAN ACCURACY:\n",
      "SGD: [0.46563 0.56182 0.61055 0.64747]\n",
      "SGD: [0.0241555  0.01079831 0.01004124 0.01185614]\n",
      "e01: [0.48319 0.59116 0.64239 0.68532]\n",
      "e01: [0.02724278 0.01030885 0.01089564 0.01028375]\n",
      "e02: [0.54351 0.62683 0.68305 0.71865]\n",
      "e02: [0.01299611 0.00892615 0.00978788 0.00716006]\n",
      "e10: [0.6052  0.69822 0.74211 0.77073]\n",
      "e10: [0.00812638 0.00815326 0.00658794 0.00763506]\n"
     ]
    }
   ],
   "source": [
    "get_acc(name='fashion')"
   ]
  },
  {
   "cell_type": "markdown",
   "metadata": {},
   "source": [
    "### CIFAR10"
   ]
  },
  {
   "cell_type": "code",
   "execution_count": 5,
   "metadata": {},
   "outputs": [
    {
     "name": "stdout",
     "output_type": "stream",
     "text": [
      "MEAN ACCURACY:\n",
      "SGD: [0.26965 0.39306 0.45319 0.49383 0.5139 ]\n",
      "SGD: [0.04015852 0.02476252 0.01469622 0.01229309 0.01435542]\n",
      "e01: [0.31473 0.44746 0.50665 0.54713 0.57691]\n",
      "e01: [0.03552112 0.01572948 0.01247808 0.00713821 0.00838766]\n",
      "e02: [0.37439 0.48501 0.53504 0.56955 0.59697]\n",
      "e02: [0.02240556 0.01290631 0.00972319 0.00841133 0.00966458]\n",
      "e10: [0.46153 0.54195 0.57367 0.6028  0.62739]\n",
      "e10: [0.00963671 0.00532734 0.01132149 0.01031601 0.0080083 ]\n"
     ]
    }
   ],
   "source": [
    "get_acc(name='cifar10')"
   ]
  },
  {
   "cell_type": "code",
   "execution_count": null,
   "metadata": {},
   "outputs": [],
   "source": []
  }
 ],
 "metadata": {
  "kernelspec": {
   "display_name": "Python 3",
   "language": "python",
   "name": "python3"
  },
  "language_info": {
   "codemirror_mode": {
    "name": "ipython",
    "version": 3
   },
   "file_extension": ".py",
   "mimetype": "text/x-python",
   "name": "python",
   "nbconvert_exporter": "python",
   "pygments_lexer": "ipython3",
   "version": "3.7.5"
  }
 },
 "nbformat": 4,
 "nbformat_minor": 2
}
