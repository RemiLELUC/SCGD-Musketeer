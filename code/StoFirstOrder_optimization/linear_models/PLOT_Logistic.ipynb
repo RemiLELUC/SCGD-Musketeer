{
 "cells": [
  {
   "cell_type": "markdown",
   "metadata": {},
   "source": [
    "# <center> Graphs for Logistic Regression\n",
    "    \n",
    "This notebook loads the results for Logistic regression and plot/save the different graphs."
   ]
  },
  {
   "cell_type": "markdown",
   "metadata": {},
   "source": [
    "### Import libraries"
   ]
  },
  {
   "cell_type": "code",
   "execution_count": null,
   "metadata": {},
   "outputs": [],
   "source": [
    "import numpy as np\n",
    "import pandas as pd\n",
    "import matplotlib.pyplot as plt\n",
    "from sklearn.linear_model import LogisticRegression\n",
    "import matplotlib as mpl\n",
    "from scripts.utils import simu_block_log\n",
    "import warnings\n",
    "warnings.filterwarnings(\"ignore\")"
   ]
  },
  {
   "cell_type": "markdown",
   "metadata": {},
   "source": [
    "### Configuration for graphics"
   ]
  },
  {
   "cell_type": "code",
   "execution_count": null,
   "metadata": {},
   "outputs": [],
   "source": [
    "plt.rcParams.update({\n",
    "    \"text.usetex\": True,\n",
    "    \"font.family\": \"sans-serif\",\n",
    "    \"font.sans-serif\": [\"Helvetica\"]})\n",
    "## for Palatino and other serif fonts use:\n",
    "plt.rcParams.update({\n",
    "    \"text.usetex\": True,\n",
    "    \"font.family\": \"serif\",\n",
    "    \"font.serif\": [\"Palatino\"],\n",
    "})"
   ]
  },
  {
   "cell_type": "markdown",
   "metadata": {},
   "source": [
    "### Load data"
   ]
  },
  {
   "cell_type": "code",
   "execution_count": null,
   "metadata": {},
   "outputs": [],
   "source": [
    "puiss = 2\n",
    "#puiss = 5"
   ]
  },
  {
   "cell_type": "code",
   "execution_count": null,
   "metadata": {},
   "outputs": [],
   "source": [
    "loss_sgd = np.load('results/LOGISTIC/loss_sgd_alpha{}.npy'.format(puiss))\n",
    "loss_uni = np.load('results/LOGISTIC/loss_uni_alpha{}.npy'.format(puiss))\n",
    "loss_bia = np.load('results/LOGISTIC/loss_bia_alpha{}.npy'.format(puiss))\n",
    "loss_unb = np.load('results/LOGISTIC/loss_unb_alpha{}.npy'.format(puiss))"
   ]
  },
  {
   "cell_type": "code",
   "execution_count": null,
   "metadata": {},
   "outputs": [],
   "source": [
    "mean_sgd = np.mean(loss_sgd,axis=0)\n",
    "mean_uni = np.mean(loss_uni,axis=0)\n",
    "mean_bia = np.mean(loss_bia,axis=0)\n",
    "mean_unb = np.mean(loss_unb,axis=0)"
   ]
  },
  {
   "cell_type": "code",
   "execution_count": null,
   "metadata": {},
   "outputs": [],
   "source": [
    "# Parameters\n",
    "n_samples = 10000   # number of samples\n",
    "n_features = 250    # dimension of the problem\n",
    "𝜆 = 1/(n_samples)#regularization parameter\n",
    "# Simulate data for regression\n",
    "seed=0 \n",
    "noise=0.01\n",
    "block_size=1\n",
    "\n",
    "X,y=simu_block_log(seed=seed,n_samples=n_samples,n_features=n_features,\n",
    "                     puiss=puiss,block_size=block_size,noise=noise)\n",
    "\n",
    "c = 1/(n_samples*λ)\n",
    "log_sk = LogisticRegression(C=c,fit_intercept=False,tol=1e-3)\n",
    "# fit sklearn model\n",
    "log_sk.fit(X=X,y=y)\n",
    "coeff = log_sk.coef_[0]\n",
    "\n",
    "data_term  = np.log(1+np.exp(np.multiply(-y,X@coeff))).mean()\n",
    "reg_term = (𝜆/2)*sum(coeff**2)\n",
    "print('data_term:',data_term)\n",
    "print('reg_term :',reg_term)\n",
    "# Optimal loss\n",
    "loss_opt = data_term + reg_term\n",
    "print('loss_opt :',loss_opt)"
   ]
  },
  {
   "cell_type": "code",
   "execution_count": null,
   "metadata": {},
   "outputs": [],
   "source": [
    "#plt.figure()\n",
    "fig,ax = plt.subplots(figsize=(5,5))\n",
    "plt.plot(mean_sgd-loss_opt,color='b',label='SGD')\n",
    "plt.plot(mean_uni-loss_opt,color='g',label='Uniform')\n",
    "plt.plot(mean_unb-loss_opt,color='darkorange',label='Adaptive')\n",
    "plt.plot(mean_bia-loss_opt,color='r',label='Musketeer')\n",
    "plt.yscale('log')\n",
    "plt.xscale('log')\n",
    "plt.ylabel(r'Optimaliy Gap $f(\\theta_t)-f(\\theta^\\star)$',fontsize=15)\n",
    "plt.xlabel('Passes over coordinates',fontsize=15)\n",
    "plt.xticks(fontsize=15)\n",
    "plt.yticks(fontsize=15)\n",
    "plt.legend(fontsize=15)\n",
    "plt.legend(loc='lower left',fontsize=15)\n",
    "plt.grid(linestyle='--',which='both',alpha=0.5)\n",
    "#plt.title('Logistic Regression',fontsize=15)\n",
    "plt.tight_layout()\n",
    "ax.spines[\"right\"].set_visible(False)\n",
    "ax.spines[\"top\"].set_visible(False)\n",
    "#plt.savefig('logistic_alpha2.pdf')\n",
    "#plt.savefig('logistic_alpha5.pdf')\n",
    "filename = 'logistic_a5.pdf'\n",
    "#plt.savefig(filename,bbox_inches='tight',transparent=True, pad_inches=0)\n",
    "plt.show()"
   ]
  },
  {
   "cell_type": "code",
   "execution_count": null,
   "metadata": {},
   "outputs": [],
   "source": []
  }
 ],
 "metadata": {
  "kernelspec": {
   "display_name": "Python 3",
   "language": "python",
   "name": "python3"
  },
  "language_info": {
   "codemirror_mode": {
    "name": "ipython",
    "version": 3
   },
   "file_extension": ".py",
   "mimetype": "text/x-python",
   "name": "python",
   "nbconvert_exporter": "python",
   "pygments_lexer": "ipython3",
   "version": "3.7.5"
  }
 },
 "nbformat": 4,
 "nbformat_minor": 2
}
